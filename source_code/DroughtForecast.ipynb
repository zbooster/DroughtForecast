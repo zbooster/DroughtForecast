{
  "cells": [
    {
      "cell_type": "markdown",
      "metadata": {
        "id": "rmOrHzlzCP48"
      },
      "source": [
        "# 머신러닝을 이용한 가뭄예측"
      ]
    },
    {
      "cell_type": "markdown",
      "metadata": {
        "id": "5U4bsZN0WjfU"
      },
      "source": [
        "## 한글데이터 처리를 위한 사전작업"
      ]
    },
    {
      "cell_type": "code",
      "execution_count": 1,
      "metadata": {
        "id": "3SzdYanOWeXh"
      },
      "outputs": [],
      "source": [
        "# !apt-get update -qq\n",
        "# !apt-get install fonts-nanum* -qq"
      ]
    },
    {
      "cell_type": "markdown",
      "metadata": {
        "id": "6UnVPqxJWwpW"
      },
      "source": [
        "**(Runtime 재시작 필요)**"
      ]
    },
    {
      "cell_type": "code",
      "execution_count": 2,
      "metadata": {
        "id": "24NYsjN2Wn6Q"
      },
      "outputs": [],
      "source": [
        "# import matplotlib.pyplot as plt\n",
        "# import matplotlib as mpl \n",
        "# %matplotlib inline\n",
        "\n",
        "# plt.rcParams['axes.unicode_minus'] = False\n",
        "\n",
        "# path = '/usr/share/fonts/truetype/nanum/NanumGothic.ttf'\n",
        "# font_name = mpl.font_manager.FontProperties(fname=path).get_name()\n",
        "# mpl.rc('font', family=font_name)\n",
        "# mpl.font_manager._rebuild()"
      ]
    },
    {
      "cell_type": "markdown",
      "metadata": {
        "id": "xRMt440uCW4E"
      },
      "source": [
        "## 데이터 수집\n",
        "- 기상자료개방포털(https://data.kma.go.kr)에서 다운로드 \n",
        "- Feature: 종관기상관측(ASOS)\n",
        "- Label: 표준강수지수"
      ]
    },
    {
      "cell_type": "markdown",
      "metadata": {
        "id": "jbYFx9huC3EM"
      },
      "source": [
        "## 데이터 가공"
      ]
    },
    {
      "cell_type": "markdown",
      "metadata": {
        "id": "iBg4Yye_C8K6"
      },
      "source": [
        "### 파일 읽기"
      ]
    },
    {
      "cell_type": "code",
      "execution_count": 1,
      "metadata": {
        "colab": {
          "base_uri": "https://localhost:8080/"
        },
        "id": "vAk3ciObCV05",
        "outputId": "3447de57-b834-4566-a194-500ec7f0b4de"
      },
      "outputs": [
        {
          "data": {
            "text/plain": [
              "['OBS_ASOS_DD_19900701_19901231.csv', 'OBS_ASOS_DD_19910101_20001231.csv']"
            ]
          },
          "execution_count": 1,
          "metadata": {},
          "output_type": "execute_result"
        }
      ],
      "source": [
        "import os\n",
        "\n",
        "files = os.listdir('../data')\n",
        "asos_csv_files = [file for file in files if file.startswith(\"OBS_ASOS_\")]\n",
        "asos_csv_files[:2]"
      ]
    },
    {
      "cell_type": "code",
      "execution_count": 2,
      "metadata": {
        "colab": {
          "base_uri": "https://localhost:8080/",
          "height": 112
        },
        "id": "EhGjCTMe-anT",
        "outputId": "03c8f6cc-61af-494d-bca8-e830090c4ce9"
      },
      "outputs": [
        {
          "data": {
            "text/html": [
              "<div>\n",
              "<style scoped>\n",
              "    .dataframe tbody tr th:only-of-type {\n",
              "        vertical-align: middle;\n",
              "    }\n",
              "\n",
              "    .dataframe tbody tr th {\n",
              "        vertical-align: top;\n",
              "    }\n",
              "\n",
              "    .dataframe thead th {\n",
              "        text-align: right;\n",
              "    }\n",
              "</style>\n",
              "<table border=\"1\" class=\"dataframe\">\n",
              "  <thead>\n",
              "    <tr style=\"text-align: right;\">\n",
              "      <th></th>\n",
              "      <th>지점</th>\n",
              "      <th>지점명</th>\n",
              "      <th>일시</th>\n",
              "      <th>평균기온(°C)</th>\n",
              "      <th>최저기온(°C)</th>\n",
              "      <th>최고기온(°C)</th>\n",
              "      <th>일강수량(mm)</th>\n",
              "      <th>평균 풍속(m/s)</th>\n",
              "      <th>평균 이슬점온도(°C)</th>\n",
              "      <th>평균 상대습도(%)</th>\n",
              "      <th>평균 현지기압(hPa)</th>\n",
              "    </tr>\n",
              "  </thead>\n",
              "  <tbody>\n",
              "    <tr>\n",
              "      <th>0</th>\n",
              "      <td>90</td>\n",
              "      <td>속초</td>\n",
              "      <td>1990-07-01</td>\n",
              "      <td>16.5</td>\n",
              "      <td>14.9</td>\n",
              "      <td>19.5</td>\n",
              "      <td>0.3</td>\n",
              "      <td>2.2</td>\n",
              "      <td>15.2</td>\n",
              "      <td>92.0</td>\n",
              "      <td>1012.8</td>\n",
              "    </tr>\n",
              "    <tr>\n",
              "      <th>1</th>\n",
              "      <td>90</td>\n",
              "      <td>속초</td>\n",
              "      <td>1990-07-02</td>\n",
              "      <td>16.2</td>\n",
              "      <td>14.9</td>\n",
              "      <td>17.2</td>\n",
              "      <td>21.3</td>\n",
              "      <td>3.2</td>\n",
              "      <td>15.6</td>\n",
              "      <td>95.5</td>\n",
              "      <td>1008.8</td>\n",
              "    </tr>\n",
              "  </tbody>\n",
              "</table>\n",
              "</div>"
            ],
            "text/plain": [
              "   지점 지점명          일시  평균기온(°C)  최저기온(°C)  최고기온(°C)  일강수량(mm)  평균 풍속(m/s)  \\\n",
              "0  90  속초  1990-07-01      16.5      14.9      19.5       0.3         2.2   \n",
              "1  90  속초  1990-07-02      16.2      14.9      17.2      21.3         3.2   \n",
              "\n",
              "   평균 이슬점온도(°C)  평균 상대습도(%)  평균 현지기압(hPa)  \n",
              "0          15.2        92.0        1012.8  \n",
              "1          15.6        95.5        1008.8  "
            ]
          },
          "execution_count": 2,
          "metadata": {},
          "output_type": "execute_result"
        }
      ],
      "source": [
        "import pandas as pd\n",
        "\n",
        "tmp = []\n",
        "for csv_file in asos_csv_files:\n",
        "  tmp.append(pd.read_csv('../data/' + csv_file, encoding='euc-kr'))\n",
        "\n",
        "asos_raw = pd.concat(tmp)\n",
        "asos_raw.head(2)"
      ]
    },
    {
      "cell_type": "code",
      "execution_count": 3,
      "metadata": {
        "colab": {
          "base_uri": "https://localhost:8080/",
          "height": 112
        },
        "id": "4aJKMndfEQgp",
        "outputId": "bafca7f1-52d0-42ec-a366-b6fdd7b7eefc"
      },
      "outputs": [
        {
          "data": {
            "text/html": [
              "<div>\n",
              "<style scoped>\n",
              "    .dataframe tbody tr th:only-of-type {\n",
              "        vertical-align: middle;\n",
              "    }\n",
              "\n",
              "    .dataframe tbody tr th {\n",
              "        vertical-align: top;\n",
              "    }\n",
              "\n",
              "    .dataframe thead th {\n",
              "        text-align: right;\n",
              "    }\n",
              "</style>\n",
              "<table border=\"1\" class=\"dataframe\">\n",
              "  <thead>\n",
              "    <tr style=\"text-align: right;\">\n",
              "      <th></th>\n",
              "      <th>지점</th>\n",
              "      <th>일시</th>\n",
              "      <th>평균기온</th>\n",
              "      <th>최저기온</th>\n",
              "      <th>최고기온</th>\n",
              "      <th>기압</th>\n",
              "      <th>강수량</th>\n",
              "      <th>풍속</th>\n",
              "      <th>이슬점</th>\n",
              "      <th>상대습도</th>\n",
              "    </tr>\n",
              "  </thead>\n",
              "  <tbody>\n",
              "    <tr>\n",
              "      <th>0</th>\n",
              "      <td>90</td>\n",
              "      <td>1990-07-01</td>\n",
              "      <td>16.5</td>\n",
              "      <td>14.9</td>\n",
              "      <td>19.5</td>\n",
              "      <td>1012.8</td>\n",
              "      <td>0.3</td>\n",
              "      <td>2.2</td>\n",
              "      <td>15.2</td>\n",
              "      <td>92.0</td>\n",
              "    </tr>\n",
              "    <tr>\n",
              "      <th>1</th>\n",
              "      <td>277</td>\n",
              "      <td>1990-07-01</td>\n",
              "      <td>18.3</td>\n",
              "      <td>16.5</td>\n",
              "      <td>20.4</td>\n",
              "      <td>1005.4</td>\n",
              "      <td>NaN</td>\n",
              "      <td>4.0</td>\n",
              "      <td>13.9</td>\n",
              "      <td>76.0</td>\n",
              "    </tr>\n",
              "  </tbody>\n",
              "</table>\n",
              "</div>"
            ],
            "text/plain": [
              "    지점          일시  평균기온  최저기온  최고기온      기압  강수량   풍속   이슬점  상대습도\n",
              "0   90  1990-07-01  16.5  14.9  19.5  1012.8  0.3  2.2  15.2  92.0\n",
              "1  277  1990-07-01  18.3  16.5  20.4  1005.4  NaN  4.0  13.9  76.0"
            ]
          },
          "execution_count": 3,
          "metadata": {},
          "output_type": "execute_result"
        }
      ],
      "source": [
        "asos = asos_raw[['지점', '일시'\n",
        "                , '평균기온(°C)', '최저기온(°C)', '최고기온(°C)', '평균 현지기압(hPa)'\n",
        "                , '일강수량(mm)', '평균 풍속(m/s)', '평균 이슬점온도(°C)', '평균 상대습도(%)']].copy()\n",
        "asos.rename(columns = {\n",
        "    '평균기온(°C)' : '평균기온',\n",
        "    '최저기온(°C)' : '최저기온',\n",
        "    '최고기온(°C)' : '최고기온',\n",
        "    '평균 현지기압(hPa)' : '기압',\n",
        "    '일강수량(mm)' : '강수량',\n",
        "    '평균 풍속(m/s)' : '풍속',\n",
        "    '평균 이슬점온도(°C)' : '이슬점',\n",
        "    '평균 상대습도(%)' : '상대습도'\n",
        "    }, inplace = True)\n",
        "asos.sort_values('일시' ,inplace=True)\n",
        "asos.reset_index(drop=True, inplace=True)\n",
        "asos.head(2)"
      ]
    },
    {
      "cell_type": "code",
      "execution_count": 4,
      "metadata": {
        "colab": {
          "base_uri": "https://localhost:8080/",
          "height": 112
        },
        "id": "mQCLFL-zGzc6",
        "outputId": "bebcfd52-daaf-46c3-9042-99bdc6c92bc7"
      },
      "outputs": [
        {
          "data": {
            "text/html": [
              "<div>\n",
              "<style scoped>\n",
              "    .dataframe tbody tr th:only-of-type {\n",
              "        vertical-align: middle;\n",
              "    }\n",
              "\n",
              "    .dataframe tbody tr th {\n",
              "        vertical-align: top;\n",
              "    }\n",
              "\n",
              "    .dataframe thead th {\n",
              "        text-align: right;\n",
              "    }\n",
              "</style>\n",
              "<table border=\"1\" class=\"dataframe\">\n",
              "  <thead>\n",
              "    <tr style=\"text-align: right;\">\n",
              "      <th></th>\n",
              "      <th>지점</th>\n",
              "      <th>일시</th>\n",
              "      <th>평균기온</th>\n",
              "      <th>최저기온</th>\n",
              "      <th>최고기온</th>\n",
              "      <th>기압</th>\n",
              "      <th>강수량</th>\n",
              "      <th>풍속</th>\n",
              "      <th>이슬점</th>\n",
              "      <th>상대습도</th>\n",
              "    </tr>\n",
              "  </thead>\n",
              "  <tbody>\n",
              "    <tr>\n",
              "      <th>279789</th>\n",
              "      <td>212</td>\n",
              "      <td>2022-05-31</td>\n",
              "      <td>18.8</td>\n",
              "      <td>11.4</td>\n",
              "      <td>27.4</td>\n",
              "      <td>991.6</td>\n",
              "      <td>NaN</td>\n",
              "      <td>1.5</td>\n",
              "      <td>6.6</td>\n",
              "      <td>50.5</td>\n",
              "    </tr>\n",
              "    <tr>\n",
              "      <th>279790</th>\n",
              "      <td>281</td>\n",
              "      <td>2022-05-31</td>\n",
              "      <td>23.0</td>\n",
              "      <td>16.9</td>\n",
              "      <td>30.4</td>\n",
              "      <td>996.9</td>\n",
              "      <td>NaN</td>\n",
              "      <td>2.2</td>\n",
              "      <td>7.3</td>\n",
              "      <td>41.1</td>\n",
              "    </tr>\n",
              "  </tbody>\n",
              "</table>\n",
              "</div>"
            ],
            "text/plain": [
              "         지점          일시  평균기온  최저기온  최고기온     기압  강수량   풍속  이슬점  상대습도\n",
              "279789  212  2022-05-31  18.8  11.4  27.4  991.6  NaN  1.5  6.6  50.5\n",
              "279790  281  2022-05-31  23.0  16.9  30.4  996.9  NaN  2.2  7.3  41.1"
            ]
          },
          "execution_count": 4,
          "metadata": {},
          "output_type": "execute_result"
        }
      ],
      "source": [
        "asos.tail(2)"
      ]
    },
    {
      "cell_type": "code",
      "execution_count": 5,
      "metadata": {
        "colab": {
          "base_uri": "https://localhost:8080/"
        },
        "id": "XgaqxTkDGSry",
        "outputId": "02162544-97d3-49df-82c2-6b946a052528"
      },
      "outputs": [
        {
          "name": "stdout",
          "output_type": "stream",
          "text": [
            "<class 'pandas.core.frame.DataFrame'>\n",
            "RangeIndex: 279791 entries, 0 to 279790\n",
            "Data columns (total 10 columns):\n",
            " #   Column  Non-Null Count   Dtype  \n",
            "---  ------  --------------   -----  \n",
            " 0   지점      279791 non-null  int64  \n",
            " 1   일시      279791 non-null  object \n",
            " 2   평균기온    279734 non-null  float64\n",
            " 3   최저기온    279784 non-null  float64\n",
            " 4   최고기온    279783 non-null  float64\n",
            " 5   기압      279727 non-null  float64\n",
            " 6   강수량     100734 non-null  float64\n",
            " 7   풍속      279728 non-null  float64\n",
            " 8   이슬점     279692 non-null  float64\n",
            " 9   상대습도    279676 non-null  float64\n",
            "dtypes: float64(8), int64(1), object(1)\n",
            "memory usage: 21.3+ MB\n"
          ]
        }
      ],
      "source": [
        "asos.info()"
      ]
    },
    {
      "cell_type": "markdown",
      "metadata": {},
      "source": [
        "#### 결측치를 확인 및 수정\n",
        "- 결측치를 확인하기 위해 isna() 함수를 이용.\n",
        "- 강수량의 경우, 비가 내리지 않는날에 대하여 값이 들어오지 않음을 확인 -> 0으로 변경\n",
        "- 나머지 결측치의 경우, 날씨의 연속성을 고려하여 전일자 데이터로 채움."
      ]
    },
    {
      "cell_type": "code",
      "execution_count": 6,
      "metadata": {
        "colab": {
          "base_uri": "https://localhost:8080/"
        },
        "id": "hUCq_OtfQWjE",
        "outputId": "6465a253-730d-40c0-9649-8e2c09c74b6b"
      },
      "outputs": [
        {
          "data": {
            "text/plain": [
              "지점           0\n",
              "일시           0\n",
              "평균기온        57\n",
              "최저기온         7\n",
              "최고기온         8\n",
              "기압          64\n",
              "강수량     179057\n",
              "풍속          63\n",
              "이슬점         99\n",
              "상대습도       115\n",
              "dtype: int64"
            ]
          },
          "execution_count": 6,
          "metadata": {},
          "output_type": "execute_result"
        }
      ],
      "source": [
        "asos.isna().sum()"
      ]
    },
    {
      "cell_type": "code",
      "execution_count": 7,
      "metadata": {
        "colab": {
          "base_uri": "https://localhost:8080/"
        },
        "id": "udl2-ofUOjv8",
        "outputId": "d64d4496-dcc4-4737-a1e0-525590d89ba3"
      },
      "outputs": [
        {
          "data": {
            "text/plain": [
              "지점      0\n",
              "일시      0\n",
              "평균기온    0\n",
              "최저기온    0\n",
              "최고기온    0\n",
              "기압      0\n",
              "강수량     0\n",
              "풍속      0\n",
              "이슬점     0\n",
              "상대습도    0\n",
              "dtype: int64"
            ]
          },
          "execution_count": 7,
          "metadata": {},
          "output_type": "execute_result"
        }
      ],
      "source": [
        "asos['강수량'] = asos['강수량'].fillna(0)\n",
        "asos = asos.fillna(method='ffill')\n",
        "asos.isna().sum()"
      ]
    },
    {
      "cell_type": "markdown",
      "metadata": {
        "id": "IlWTmDwfSLy9"
      },
      "source": [
        "#### ASOS 관측데이터의 6개월 평균값 계산\n",
        "- Label인 SPI6는 6개월 표준강수지수 이기때문에 두 Feature 값을 모두 6개월 평균 가공"
      ]
    },
    {
      "cell_type": "code",
      "execution_count": 67,
      "metadata": {
        "colab": {
          "base_uri": "https://localhost:8080/",
          "height": 206
        },
        "id": "dMmT28AzSb9W",
        "outputId": "6f2d3011-d899-47f0-eb3b-24343c2afc32"
      },
      "outputs": [
        {
          "data": {
            "text/html": [
              "<div>\n",
              "<style scoped>\n",
              "    .dataframe tbody tr th:only-of-type {\n",
              "        vertical-align: middle;\n",
              "    }\n",
              "\n",
              "    .dataframe tbody tr th {\n",
              "        vertical-align: top;\n",
              "    }\n",
              "\n",
              "    .dataframe thead th {\n",
              "        text-align: right;\n",
              "    }\n",
              "</style>\n",
              "<table border=\"1\" class=\"dataframe\">\n",
              "  <thead>\n",
              "    <tr style=\"text-align: right;\">\n",
              "      <th></th>\n",
              "      <th>지점</th>\n",
              "      <th>일시</th>\n",
              "      <th>평균기온</th>\n",
              "      <th>최저기온</th>\n",
              "      <th>최고기온</th>\n",
              "      <th>기압</th>\n",
              "      <th>강수량</th>\n",
              "      <th>풍속</th>\n",
              "      <th>이슬점</th>\n",
              "      <th>상대습도</th>\n",
              "      <th>연도</th>\n",
              "      <th>월</th>\n",
              "    </tr>\n",
              "  </thead>\n",
              "  <tbody>\n",
              "    <tr>\n",
              "      <th>0</th>\n",
              "      <td>90</td>\n",
              "      <td>1990-07-01</td>\n",
              "      <td>16.5</td>\n",
              "      <td>14.9</td>\n",
              "      <td>19.5</td>\n",
              "      <td>1012.8</td>\n",
              "      <td>0.3</td>\n",
              "      <td>2.2</td>\n",
              "      <td>15.2</td>\n",
              "      <td>92.0</td>\n",
              "      <td>1990</td>\n",
              "      <td>07</td>\n",
              "    </tr>\n",
              "    <tr>\n",
              "      <th>1</th>\n",
              "      <td>277</td>\n",
              "      <td>1990-07-01</td>\n",
              "      <td>18.3</td>\n",
              "      <td>16.5</td>\n",
              "      <td>20.4</td>\n",
              "      <td>1005.4</td>\n",
              "      <td>0.0</td>\n",
              "      <td>4.0</td>\n",
              "      <td>13.9</td>\n",
              "      <td>76.0</td>\n",
              "      <td>1990</td>\n",
              "      <td>07</td>\n",
              "    </tr>\n",
              "  </tbody>\n",
              "</table>\n",
              "</div>"
            ],
            "text/plain": [
              "    지점          일시  평균기온  최저기온  최고기온      기압  강수량   풍속   이슬점  상대습도    연도   월\n",
              "0   90  1990-07-01  16.5  14.9  19.5  1012.8  0.3  2.2  15.2  92.0  1990  07\n",
              "1  277  1990-07-01  18.3  16.5  20.4  1005.4  0.0  4.0  13.9  76.0  1990  07"
            ]
          },
          "execution_count": 67,
          "metadata": {},
          "output_type": "execute_result"
        }
      ],
      "source": [
        "asos['연도'] = asos['일시'].map(lambda x: x.split('-')[0])\n",
        "asos['월'] = asos['일시'].map(lambda x: x.split('-')[1])\n",
        "asos.head(2)"
      ]
    },
    {
      "cell_type": "code",
      "execution_count": 120,
      "metadata": {
        "colab": {
          "base_uri": "https://localhost:8080/",
          "height": 238
        },
        "id": "4FMSaRERS4z1",
        "outputId": "480cc8f1-1d6a-469c-e5b2-757f3657c5ab"
      },
      "outputs": [
        {
          "data": {
            "text/html": [
              "<div>\n",
              "<style scoped>\n",
              "    .dataframe tbody tr th:only-of-type {\n",
              "        vertical-align: middle;\n",
              "    }\n",
              "\n",
              "    .dataframe tbody tr th {\n",
              "        vertical-align: top;\n",
              "    }\n",
              "\n",
              "    .dataframe thead th {\n",
              "        text-align: right;\n",
              "    }\n",
              "</style>\n",
              "<table border=\"1\" class=\"dataframe\">\n",
              "  <thead>\n",
              "    <tr style=\"text-align: right;\">\n",
              "      <th></th>\n",
              "      <th></th>\n",
              "      <th></th>\n",
              "      <th>평균기온</th>\n",
              "      <th>최저기온</th>\n",
              "      <th>최고기온</th>\n",
              "      <th>기압</th>\n",
              "      <th>강수량</th>\n",
              "      <th>풍속</th>\n",
              "      <th>이슬점</th>\n",
              "      <th>상대습도</th>\n",
              "    </tr>\n",
              "    <tr>\n",
              "      <th>지점</th>\n",
              "      <th>연도</th>\n",
              "      <th>월</th>\n",
              "      <th></th>\n",
              "      <th></th>\n",
              "      <th></th>\n",
              "      <th></th>\n",
              "      <th></th>\n",
              "      <th></th>\n",
              "      <th></th>\n",
              "      <th></th>\n",
              "    </tr>\n",
              "  </thead>\n",
              "  <tbody>\n",
              "    <tr>\n",
              "      <th rowspan=\"2\" valign=\"top\">90</th>\n",
              "      <th rowspan=\"2\" valign=\"top\">1990</th>\n",
              "      <th>07</th>\n",
              "      <td>21.425806</td>\n",
              "      <td>19.451613</td>\n",
              "      <td>24.387097</td>\n",
              "      <td>1005.903226</td>\n",
              "      <td>8.477419</td>\n",
              "      <td>2.390323</td>\n",
              "      <td>19.938710</td>\n",
              "      <td>91.925806</td>\n",
              "    </tr>\n",
              "    <tr>\n",
              "      <th>08</th>\n",
              "      <td>24.683871</td>\n",
              "      <td>21.616129</td>\n",
              "      <td>28.274194</td>\n",
              "      <td>1006.703226</td>\n",
              "      <td>3.564516</td>\n",
              "      <td>2.209677</td>\n",
              "      <td>21.967742</td>\n",
              "      <td>85.945161</td>\n",
              "    </tr>\n",
              "  </tbody>\n",
              "</table>\n",
              "</div>"
            ],
            "text/plain": [
              "                 평균기온       최저기온       최고기온           기압       강수량        풍속  \\\n",
              "지점 연도   월                                                                      \n",
              "90 1990 07  21.425806  19.451613  24.387097  1005.903226  8.477419  2.390323   \n",
              "        08  24.683871  21.616129  28.274194  1006.703226  3.564516  2.209677   \n",
              "\n",
              "                  이슬점       상대습도  \n",
              "지점 연도   월                         \n",
              "90 1990 07  19.938710  91.925806  \n",
              "        08  21.967742  85.945161  "
            ]
          },
          "execution_count": 120,
          "metadata": {},
          "output_type": "execute_result"
        }
      ],
      "source": [
        "asos_mean = asos.groupby(by=['지점', '연도', '월']).mean()\n",
        "asos_mean.head(2)"
      ]
    },
    {
      "cell_type": "markdown",
      "metadata": {},
      "source": [
        "#### 지점별로 6개월씩 rolling 함수를 이용하여 평균값을 연산"
      ]
    },
    {
      "cell_type": "code",
      "execution_count": 130,
      "metadata": {},
      "outputs": [
        {
          "data": {
            "text/html": [
              "<div>\n",
              "<style scoped>\n",
              "    .dataframe tbody tr th:only-of-type {\n",
              "        vertical-align: middle;\n",
              "    }\n",
              "\n",
              "    .dataframe tbody tr th {\n",
              "        vertical-align: top;\n",
              "    }\n",
              "\n",
              "    .dataframe thead th {\n",
              "        text-align: right;\n",
              "    }\n",
              "</style>\n",
              "<table border=\"1\" class=\"dataframe\">\n",
              "  <thead>\n",
              "    <tr style=\"text-align: right;\">\n",
              "      <th></th>\n",
              "      <th></th>\n",
              "      <th></th>\n",
              "      <th>평균기온</th>\n",
              "      <th>최저기온</th>\n",
              "      <th>최고기온</th>\n",
              "      <th>기압</th>\n",
              "      <th>강수량</th>\n",
              "      <th>풍속</th>\n",
              "      <th>이슬점</th>\n",
              "      <th>상대습도</th>\n",
              "    </tr>\n",
              "    <tr>\n",
              "      <th>지점</th>\n",
              "      <th>연도</th>\n",
              "      <th>월</th>\n",
              "      <th></th>\n",
              "      <th></th>\n",
              "      <th></th>\n",
              "      <th></th>\n",
              "      <th></th>\n",
              "      <th></th>\n",
              "      <th></th>\n",
              "      <th></th>\n",
              "    </tr>\n",
              "  </thead>\n",
              "  <tbody>\n",
              "    <tr>\n",
              "      <th rowspan=\"5\" valign=\"top\">129</th>\n",
              "      <th>1990</th>\n",
              "      <th>12</th>\n",
              "      <td>16.115466</td>\n",
              "      <td>11.923459</td>\n",
              "      <td>21.463136</td>\n",
              "      <td>1013.037455</td>\n",
              "      <td>5.297903</td>\n",
              "      <td>1.957455</td>\n",
              "      <td>12.064068</td>\n",
              "      <td>78.620968</td>\n",
              "    </tr>\n",
              "    <tr>\n",
              "      <th rowspan=\"4\" valign=\"top\">1991</th>\n",
              "      <th>01</th>\n",
              "      <td>11.696649</td>\n",
              "      <td>7.230448</td>\n",
              "      <td>17.316900</td>\n",
              "      <td>1016.229391</td>\n",
              "      <td>4.033387</td>\n",
              "      <td>1.790789</td>\n",
              "      <td>7.369982</td>\n",
              "      <td>76.798387</td>\n",
              "    </tr>\n",
              "    <tr>\n",
              "      <th>02</th>\n",
              "      <td>7.288411</td>\n",
              "      <td>2.807675</td>\n",
              "      <td>12.876231</td>\n",
              "      <td>1018.844963</td>\n",
              "      <td>2.998671</td>\n",
              "      <td>1.889272</td>\n",
              "      <td>2.783077</td>\n",
              "      <td>75.348368</td>\n",
              "    </tr>\n",
              "    <tr>\n",
              "      <th>03</th>\n",
              "      <td>4.551171</td>\n",
              "      <td>-0.032002</td>\n",
              "      <td>10.230031</td>\n",
              "      <td>1020.095375</td>\n",
              "      <td>1.590678</td>\n",
              "      <td>1.974128</td>\n",
              "      <td>-0.212855</td>\n",
              "      <td>73.766594</td>\n",
              "    </tr>\n",
              "    <tr>\n",
              "      <th>04</th>\n",
              "      <td>4.074756</td>\n",
              "      <td>-0.592898</td>\n",
              "      <td>9.807862</td>\n",
              "      <td>1019.495662</td>\n",
              "      <td>1.922901</td>\n",
              "      <td>2.086404</td>\n",
              "      <td>-0.940256</td>\n",
              "      <td>72.506540</td>\n",
              "    </tr>\n",
              "  </tbody>\n",
              "</table>\n",
              "</div>"
            ],
            "text/plain": [
              "                  평균기온       최저기온       최고기온           기압       강수량        풍속  \\\n",
              "지점  연도   월                                                                      \n",
              "129 1990 12  16.115466  11.923459  21.463136  1013.037455  5.297903  1.957455   \n",
              "    1991 01  11.696649   7.230448  17.316900  1016.229391  4.033387  1.790789   \n",
              "         02   7.288411   2.807675  12.876231  1018.844963  2.998671  1.889272   \n",
              "         03   4.551171  -0.032002  10.230031  1020.095375  1.590678  1.974128   \n",
              "         04   4.074756  -0.592898   9.807862  1019.495662  1.922901  2.086404   \n",
              "\n",
              "                   이슬점       상대습도  \n",
              "지점  연도   월                         \n",
              "129 1990 12  12.064068  78.620968  \n",
              "    1991 01   7.369982  76.798387  \n",
              "         02   2.783077  75.348368  \n",
              "         03  -0.212855  73.766594  \n",
              "         04  -0.940256  72.506540  "
            ]
          },
          "execution_count": 130,
          "metadata": {},
          "output_type": "execute_result"
        }
      ],
      "source": [
        "asos_pos_list = list(set(asos_mean.index.map(lambda x: x[0])))\n",
        "\n",
        "tmp = []\n",
        "for pos in asos_pos_list:\n",
        "    tmp.append(pd.concat([asos_mean.loc[pos].rolling(window=6).mean().dropna()], keys=[pos], names=['지점']))\n",
        "\n",
        "asos_mean_6m = pd.concat(tmp)\n",
        "asos_mean_6m.head()"
      ]
    },
    {
      "cell_type": "markdown",
      "metadata": {},
      "source": [
        "### 테스트 데이터 준비하기\n",
        "- 테스트 데이터의 구성은 이전 5개월의 월 평균값의 합 + 최근 20년간 해당 월 평균값을 6으로 나눈 수치"
      ]
    },
    {
      "cell_type": "code",
      "execution_count": 129,
      "metadata": {},
      "outputs": [
        {
          "data": {
            "text/html": [
              "<div>\n",
              "<style scoped>\n",
              "    .dataframe tbody tr th:only-of-type {\n",
              "        vertical-align: middle;\n",
              "    }\n",
              "\n",
              "    .dataframe tbody tr th {\n",
              "        vertical-align: top;\n",
              "    }\n",
              "\n",
              "    .dataframe thead th {\n",
              "        text-align: right;\n",
              "    }\n",
              "</style>\n",
              "<table border=\"1\" class=\"dataframe\">\n",
              "  <thead>\n",
              "    <tr style=\"text-align: right;\">\n",
              "      <th></th>\n",
              "      <th></th>\n",
              "      <th></th>\n",
              "      <th>평균기온</th>\n",
              "      <th>최저기온</th>\n",
              "      <th>최고기온</th>\n",
              "      <th>기압</th>\n",
              "      <th>강수량</th>\n",
              "      <th>풍속</th>\n",
              "      <th>이슬점</th>\n",
              "      <th>상대습도</th>\n",
              "    </tr>\n",
              "    <tr>\n",
              "      <th>지점</th>\n",
              "      <th>연도</th>\n",
              "      <th>월</th>\n",
              "      <th></th>\n",
              "      <th></th>\n",
              "      <th></th>\n",
              "      <th></th>\n",
              "      <th></th>\n",
              "      <th></th>\n",
              "      <th></th>\n",
              "      <th></th>\n",
              "    </tr>\n",
              "  </thead>\n",
              "  <tbody>\n",
              "    <tr>\n",
              "      <th rowspan=\"2\" valign=\"top\">90</th>\n",
              "      <th rowspan=\"2\" valign=\"top\">1990</th>\n",
              "      <th>07</th>\n",
              "      <td>21.425806</td>\n",
              "      <td>19.451613</td>\n",
              "      <td>24.387097</td>\n",
              "      <td>1005.903226</td>\n",
              "      <td>8.477419</td>\n",
              "      <td>2.390323</td>\n",
              "      <td>19.938710</td>\n",
              "      <td>91.925806</td>\n",
              "    </tr>\n",
              "    <tr>\n",
              "      <th>08</th>\n",
              "      <td>24.683871</td>\n",
              "      <td>21.616129</td>\n",
              "      <td>28.274194</td>\n",
              "      <td>1006.703226</td>\n",
              "      <td>3.564516</td>\n",
              "      <td>2.209677</td>\n",
              "      <td>21.967742</td>\n",
              "      <td>85.945161</td>\n",
              "    </tr>\n",
              "  </tbody>\n",
              "</table>\n",
              "</div>"
            ],
            "text/plain": [
              "                 평균기온       최저기온       최고기온           기압       강수량        풍속  \\\n",
              "지점 연도   월                                                                      \n",
              "90 1990 07  21.425806  19.451613  24.387097  1005.903226  8.477419  2.390323   \n",
              "        08  24.683871  21.616129  28.274194  1006.703226  3.564516  2.209677   \n",
              "\n",
              "                  이슬점       상대습도  \n",
              "지점 연도   월                         \n",
              "90 1990 07  19.938710  91.925806  \n",
              "        08  21.967742  85.945161  "
            ]
          },
          "execution_count": 129,
          "metadata": {},
          "output_type": "execute_result"
        }
      ],
      "source": [
        "asos_mean.head(2)"
      ]
    },
    {
      "cell_type": "markdown",
      "metadata": {},
      "source": [
        "#### 이전 5개월 월 평균의 합"
      ]
    },
    {
      "cell_type": "code",
      "execution_count": 135,
      "metadata": {},
      "outputs": [
        {
          "data": {
            "text/html": [
              "<div>\n",
              "<style scoped>\n",
              "    .dataframe tbody tr th:only-of-type {\n",
              "        vertical-align: middle;\n",
              "    }\n",
              "\n",
              "    .dataframe tbody tr th {\n",
              "        vertical-align: top;\n",
              "    }\n",
              "\n",
              "    .dataframe thead th {\n",
              "        text-align: right;\n",
              "    }\n",
              "</style>\n",
              "<table border=\"1\" class=\"dataframe\">\n",
              "  <thead>\n",
              "    <tr style=\"text-align: right;\">\n",
              "      <th></th>\n",
              "      <th></th>\n",
              "      <th></th>\n",
              "      <th>평균기온</th>\n",
              "      <th>최저기온</th>\n",
              "      <th>최고기온</th>\n",
              "      <th>기압</th>\n",
              "      <th>강수량</th>\n",
              "      <th>풍속</th>\n",
              "      <th>이슬점</th>\n",
              "      <th>상대습도</th>\n",
              "    </tr>\n",
              "    <tr>\n",
              "      <th>지점</th>\n",
              "      <th>연도</th>\n",
              "      <th>월</th>\n",
              "      <th></th>\n",
              "      <th></th>\n",
              "      <th></th>\n",
              "      <th></th>\n",
              "      <th></th>\n",
              "      <th></th>\n",
              "      <th></th>\n",
              "      <th></th>\n",
              "    </tr>\n",
              "  </thead>\n",
              "  <tbody>\n",
              "    <tr>\n",
              "      <th rowspan=\"5\" valign=\"top\">129</th>\n",
              "      <th>1990</th>\n",
              "      <th>12</th>\n",
              "      <td>94.889570</td>\n",
              "      <td>73.440753</td>\n",
              "      <td>122.572366</td>\n",
              "      <td>5056.973118</td>\n",
              "      <td>30.242258</td>\n",
              "      <td>9.480215</td>\n",
              "      <td>74.819892</td>\n",
              "      <td>396.548387</td>\n",
              "    </tr>\n",
              "    <tr>\n",
              "      <th rowspan=\"4\" valign=\"top\">1991</th>\n",
              "      <th>01</th>\n",
              "      <td>71.863763</td>\n",
              "      <td>49.360108</td>\n",
              "      <td>100.382043</td>\n",
              "      <td>5074.708602</td>\n",
              "      <td>23.577742</td>\n",
              "      <td>9.009247</td>\n",
              "      <td>50.648925</td>\n",
              "      <td>388.000000</td>\n",
              "    </tr>\n",
              "    <tr>\n",
              "      <th>02</th>\n",
              "      <td>44.641183</td>\n",
              "      <td>22.024624</td>\n",
              "      <td>72.978817</td>\n",
              "      <td>5092.537634</td>\n",
              "      <td>16.377742</td>\n",
              "      <td>9.196344</td>\n",
              "      <td>22.419892</td>\n",
              "      <td>379.758065</td>\n",
              "    </tr>\n",
              "    <tr>\n",
              "      <th>03</th>\n",
              "      <td>23.003802</td>\n",
              "      <td>0.066052</td>\n",
              "      <td>51.164055</td>\n",
              "      <td>5101.846444</td>\n",
              "      <td>7.305361</td>\n",
              "      <td>9.418963</td>\n",
              "      <td>-0.244869</td>\n",
              "      <td>371.780207</td>\n",
              "    </tr>\n",
              "    <tr>\n",
              "      <th>04</th>\n",
              "      <td>13.161866</td>\n",
              "      <td>-8.330722</td>\n",
              "      <td>39.770507</td>\n",
              "      <td>5102.920637</td>\n",
              "      <td>9.544071</td>\n",
              "      <td>10.435092</td>\n",
              "      <td>-10.044869</td>\n",
              "      <td>369.009240</td>\n",
              "    </tr>\n",
              "  </tbody>\n",
              "</table>\n",
              "</div>"
            ],
            "text/plain": [
              "                  평균기온       최저기온        최고기온           기압        강수량  \\\n",
              "지점  연도   월                                                              \n",
              "129 1990 12  94.889570  73.440753  122.572366  5056.973118  30.242258   \n",
              "    1991 01  71.863763  49.360108  100.382043  5074.708602  23.577742   \n",
              "         02  44.641183  22.024624   72.978817  5092.537634  16.377742   \n",
              "         03  23.003802   0.066052   51.164055  5101.846444   7.305361   \n",
              "         04  13.161866  -8.330722   39.770507  5102.920637   9.544071   \n",
              "\n",
              "                    풍속        이슬점        상대습도  \n",
              "지점  연도   월                                     \n",
              "129 1990 12   9.480215  74.819892  396.548387  \n",
              "    1991 01   9.009247  50.648925  388.000000  \n",
              "         02   9.196344  22.419892  379.758065  \n",
              "         03   9.418963  -0.244869  371.780207  \n",
              "         04  10.435092 -10.044869  369.009240  "
            ]
          },
          "execution_count": 135,
          "metadata": {},
          "output_type": "execute_result"
        }
      ],
      "source": [
        "tmp = []\n",
        "\n",
        "for pos in asos_pos_list:\n",
        "    tmp.append(pd.concat([asos_mean.loc[pos].rolling(window=5).sum().dropna()], keys=[pos], names=['지점']))\n",
        "\n",
        "asos_mean_5m = pd.concat(tmp)\n",
        "asos_mean_priv_5m = asos_mean_5m.shift(1).dropna()\n",
        "asos_mean_priv_5m.head()"
      ]
    },
    {
      "cell_type": "markdown",
      "metadata": {},
      "source": [
        "#### 최근 20년간 해당 월의 평균값"
      ]
    },
    {
      "cell_type": "code",
      "execution_count": 162,
      "metadata": {},
      "outputs": [
        {
          "data": {
            "text/html": [
              "<div>\n",
              "<style scoped>\n",
              "    .dataframe tbody tr th:only-of-type {\n",
              "        vertical-align: middle;\n",
              "    }\n",
              "\n",
              "    .dataframe tbody tr th {\n",
              "        vertical-align: top;\n",
              "    }\n",
              "\n",
              "    .dataframe thead th {\n",
              "        text-align: right;\n",
              "    }\n",
              "</style>\n",
              "<table border=\"1\" class=\"dataframe\">\n",
              "  <thead>\n",
              "    <tr style=\"text-align: right;\">\n",
              "      <th></th>\n",
              "      <th></th>\n",
              "      <th></th>\n",
              "      <th>평균기온</th>\n",
              "      <th>최저기온</th>\n",
              "      <th>최고기온</th>\n",
              "      <th>기압</th>\n",
              "      <th>강수량</th>\n",
              "      <th>풍속</th>\n",
              "      <th>이슬점</th>\n",
              "      <th>상대습도</th>\n",
              "    </tr>\n",
              "    <tr>\n",
              "      <th>지점</th>\n",
              "      <th>월</th>\n",
              "      <th>연도</th>\n",
              "      <th></th>\n",
              "      <th></th>\n",
              "      <th></th>\n",
              "      <th></th>\n",
              "      <th></th>\n",
              "      <th></th>\n",
              "      <th></th>\n",
              "      <th></th>\n",
              "    </tr>\n",
              "  </thead>\n",
              "  <tbody>\n",
              "    <tr>\n",
              "      <th rowspan=\"5\" valign=\"top\">90</th>\n",
              "      <th rowspan=\"5\" valign=\"top\">01</th>\n",
              "      <th>1991</th>\n",
              "      <td>NaN</td>\n",
              "      <td>NaN</td>\n",
              "      <td>NaN</td>\n",
              "      <td>NaN</td>\n",
              "      <td>NaN</td>\n",
              "      <td>NaN</td>\n",
              "      <td>NaN</td>\n",
              "      <td>NaN</td>\n",
              "    </tr>\n",
              "    <tr>\n",
              "      <th>1992</th>\n",
              "      <td>-0.661290</td>\n",
              "      <td>-4.012903</td>\n",
              "      <td>3.332258</td>\n",
              "      <td>1020.174194</td>\n",
              "      <td>0.587097</td>\n",
              "      <td>2.848387</td>\n",
              "      <td>-9.038710</td>\n",
              "      <td>57.103226</td>\n",
              "    </tr>\n",
              "    <tr>\n",
              "      <th>1993</th>\n",
              "      <td>1.716129</td>\n",
              "      <td>-1.941935</td>\n",
              "      <td>5.938710</td>\n",
              "      <td>1019.512903</td>\n",
              "      <td>2.777419</td>\n",
              "      <td>3.170968</td>\n",
              "      <td>-5.987097</td>\n",
              "      <td>59.264516</td>\n",
              "    </tr>\n",
              "    <tr>\n",
              "      <th>1994</th>\n",
              "      <td>0.167742</td>\n",
              "      <td>-3.435484</td>\n",
              "      <td>4.300000</td>\n",
              "      <td>1020.425806</td>\n",
              "      <td>2.548387</td>\n",
              "      <td>2.951613</td>\n",
              "      <td>-4.087097</td>\n",
              "      <td>73.938710</td>\n",
              "    </tr>\n",
              "    <tr>\n",
              "      <th>1995</th>\n",
              "      <td>0.458065</td>\n",
              "      <td>-3.661290</td>\n",
              "      <td>4.038710</td>\n",
              "      <td>1018.354839</td>\n",
              "      <td>2.312903</td>\n",
              "      <td>2.977419</td>\n",
              "      <td>-6.735484</td>\n",
              "      <td>60.890323</td>\n",
              "    </tr>\n",
              "  </tbody>\n",
              "</table>\n",
              "</div>"
            ],
            "text/plain": [
              "                평균기온      최저기온      최고기온           기압       강수량        풍속  \\\n",
              "지점 월  연도                                                                    \n",
              "90 01 1991       NaN       NaN       NaN          NaN       NaN       NaN   \n",
              "      1992 -0.661290 -4.012903  3.332258  1020.174194  0.587097  2.848387   \n",
              "      1993  1.716129 -1.941935  5.938710  1019.512903  2.777419  3.170968   \n",
              "      1994  0.167742 -3.435484  4.300000  1020.425806  2.548387  2.951613   \n",
              "      1995  0.458065 -3.661290  4.038710  1018.354839  2.312903  2.977419   \n",
              "\n",
              "                 이슬점       상대습도  \n",
              "지점 월  연도                         \n",
              "90 01 1991       NaN        NaN  \n",
              "      1992 -9.038710  57.103226  \n",
              "      1993 -5.987097  59.264516  \n",
              "      1994 -4.087097  73.938710  \n",
              "      1995 -6.735484  60.890323  "
            ]
          },
          "execution_count": 162,
          "metadata": {},
          "output_type": "execute_result"
        }
      ],
      "source": [
        "asos_mean_sort_month = asos_mean.swaplevel().sort_index().shift(1)\n",
        "asos_mean_sort_month.head()"
      ]
    },
    {
      "cell_type": "code",
      "execution_count": 168,
      "metadata": {},
      "outputs": [
        {
          "data": {
            "text/html": [
              "<div>\n",
              "<style scoped>\n",
              "    .dataframe tbody tr th:only-of-type {\n",
              "        vertical-align: middle;\n",
              "    }\n",
              "\n",
              "    .dataframe tbody tr th {\n",
              "        vertical-align: top;\n",
              "    }\n",
              "\n",
              "    .dataframe thead th {\n",
              "        text-align: right;\n",
              "    }\n",
              "</style>\n",
              "<table border=\"1\" class=\"dataframe\">\n",
              "  <thead>\n",
              "    <tr style=\"text-align: right;\">\n",
              "      <th></th>\n",
              "      <th></th>\n",
              "      <th></th>\n",
              "      <th>평균기온</th>\n",
              "      <th>최저기온</th>\n",
              "      <th>최고기온</th>\n",
              "      <th>기압</th>\n",
              "      <th>강수량</th>\n",
              "      <th>풍속</th>\n",
              "      <th>이슬점</th>\n",
              "      <th>상대습도</th>\n",
              "    </tr>\n",
              "    <tr>\n",
              "      <th>지점</th>\n",
              "      <th>월</th>\n",
              "      <th>연도</th>\n",
              "      <th></th>\n",
              "      <th></th>\n",
              "      <th></th>\n",
              "      <th></th>\n",
              "      <th></th>\n",
              "      <th></th>\n",
              "      <th></th>\n",
              "      <th></th>\n",
              "    </tr>\n",
              "  </thead>\n",
              "  <tbody>\n",
              "    <tr>\n",
              "      <th rowspan=\"5\" valign=\"top\">90</th>\n",
              "      <th rowspan=\"5\" valign=\"top\">01</th>\n",
              "      <th>2011</th>\n",
              "      <td>0.035323</td>\n",
              "      <td>-3.830484</td>\n",
              "      <td>4.137419</td>\n",
              "      <td>1019.001774</td>\n",
              "      <td>1.456613</td>\n",
              "      <td>2.934839</td>\n",
              "      <td>-9.919677</td>\n",
              "      <td>51.109032</td>\n",
              "    </tr>\n",
              "    <tr>\n",
              "      <th>2012</th>\n",
              "      <td>-0.068065</td>\n",
              "      <td>-3.989839</td>\n",
              "      <td>4.059839</td>\n",
              "      <td>1019.028710</td>\n",
              "      <td>1.446613</td>\n",
              "      <td>2.928871</td>\n",
              "      <td>-10.345323</td>\n",
              "      <td>49.915161</td>\n",
              "    </tr>\n",
              "    <tr>\n",
              "      <th>2013</th>\n",
              "      <td>-0.174194</td>\n",
              "      <td>-4.078710</td>\n",
              "      <td>3.931452</td>\n",
              "      <td>1019.132419</td>\n",
              "      <td>1.346774</td>\n",
              "      <td>2.890806</td>\n",
              "      <td>-10.673710</td>\n",
              "      <td>49.112742</td>\n",
              "    </tr>\n",
              "    <tr>\n",
              "      <th>2014</th>\n",
              "      <td>-0.220968</td>\n",
              "      <td>-4.135161</td>\n",
              "      <td>3.873548</td>\n",
              "      <td>1019.176129</td>\n",
              "      <td>1.344032</td>\n",
              "      <td>2.860000</td>\n",
              "      <td>-10.956129</td>\n",
              "      <td>48.166613</td>\n",
              "    </tr>\n",
              "    <tr>\n",
              "      <th>2015</th>\n",
              "      <td>-0.150161</td>\n",
              "      <td>-4.082419</td>\n",
              "      <td>3.959032</td>\n",
              "      <td>1019.269677</td>\n",
              "      <td>1.275645</td>\n",
              "      <td>2.828548</td>\n",
              "      <td>-11.041290</td>\n",
              "      <td>47.640323</td>\n",
              "    </tr>\n",
              "  </tbody>\n",
              "</table>\n",
              "</div>"
            ],
            "text/plain": [
              "                평균기온      최저기온      최고기온           기압       강수량        풍속  \\\n",
              "지점 월  연도                                                                    \n",
              "90 01 2011  0.035323 -3.830484  4.137419  1019.001774  1.456613  2.934839   \n",
              "      2012 -0.068065 -3.989839  4.059839  1019.028710  1.446613  2.928871   \n",
              "      2013 -0.174194 -4.078710  3.931452  1019.132419  1.346774  2.890806   \n",
              "      2014 -0.220968 -4.135161  3.873548  1019.176129  1.344032  2.860000   \n",
              "      2015 -0.150161 -4.082419  3.959032  1019.269677  1.275645  2.828548   \n",
              "\n",
              "                  이슬점       상대습도  \n",
              "지점 월  연도                          \n",
              "90 01 2011  -9.919677  51.109032  \n",
              "      2012 -10.345323  49.915161  \n",
              "      2013 -10.673710  49.112742  \n",
              "      2014 -10.956129  48.166613  \n",
              "      2015 -11.041290  47.640323  "
            ]
          },
          "execution_count": 168,
          "metadata": {},
          "output_type": "execute_result"
        }
      ],
      "source": [
        "tmp = []\n",
        "\n",
        "for idx in list(set(asos_mean_sort_month.index.droplevel(2))):\n",
        "    df = asos_mean_sort_month.loc[idx].rolling(window=20).mean().dropna()\n",
        "    tmp.append(pd.concat([df], keys=[idx], names=['지점', '월']))\n",
        "\n",
        "asos_mean_20y = pd.concat(tmp).sort_index()\n",
        "asos_mean_20y.head()"
      ]
    },
    {
      "cell_type": "code",
      "execution_count": 175,
      "metadata": {},
      "outputs": [
        {
          "data": {
            "text/html": [
              "<div>\n",
              "<style scoped>\n",
              "    .dataframe tbody tr th:only-of-type {\n",
              "        vertical-align: middle;\n",
              "    }\n",
              "\n",
              "    .dataframe tbody tr th {\n",
              "        vertical-align: top;\n",
              "    }\n",
              "\n",
              "    .dataframe thead th {\n",
              "        text-align: right;\n",
              "    }\n",
              "</style>\n",
              "<table border=\"1\" class=\"dataframe\">\n",
              "  <thead>\n",
              "    <tr style=\"text-align: right;\">\n",
              "      <th></th>\n",
              "      <th></th>\n",
              "      <th></th>\n",
              "      <th>평균기온_x</th>\n",
              "      <th>최저기온_x</th>\n",
              "      <th>최고기온_x</th>\n",
              "      <th>기압_x</th>\n",
              "      <th>강수량_x</th>\n",
              "      <th>풍속_x</th>\n",
              "      <th>이슬점_x</th>\n",
              "      <th>상대습도_x</th>\n",
              "      <th>평균기온_y</th>\n",
              "      <th>최저기온_y</th>\n",
              "      <th>최고기온_y</th>\n",
              "      <th>기압_y</th>\n",
              "      <th>강수량_y</th>\n",
              "      <th>풍속_y</th>\n",
              "      <th>이슬점_y</th>\n",
              "      <th>상대습도_y</th>\n",
              "    </tr>\n",
              "    <tr>\n",
              "      <th>지점</th>\n",
              "      <th>연도</th>\n",
              "      <th>월</th>\n",
              "      <th></th>\n",
              "      <th></th>\n",
              "      <th></th>\n",
              "      <th></th>\n",
              "      <th></th>\n",
              "      <th></th>\n",
              "      <th></th>\n",
              "      <th></th>\n",
              "      <th></th>\n",
              "      <th></th>\n",
              "      <th></th>\n",
              "      <th></th>\n",
              "      <th></th>\n",
              "      <th></th>\n",
              "      <th></th>\n",
              "      <th></th>\n",
              "    </tr>\n",
              "  </thead>\n",
              "  <tbody>\n",
              "    <tr>\n",
              "      <th rowspan=\"5\" valign=\"top\">90</th>\n",
              "      <th rowspan=\"5\" valign=\"top\">2009</th>\n",
              "      <th>07</th>\n",
              "      <td>62.103318</td>\n",
              "      <td>41.577627</td>\n",
              "      <td>83.303149</td>\n",
              "      <td>5055.124040</td>\n",
              "      <td>15.020522</td>\n",
              "      <td>13.195776</td>\n",
              "      <td>16.915745</td>\n",
              "      <td>299.360300</td>\n",
              "      <td>22.901425</td>\n",
              "      <td>20.121140</td>\n",
              "      <td>26.175946</td>\n",
              "      <td>1004.228828</td>\n",
              "      <td>8.056387</td>\n",
              "      <td>2.225097</td>\n",
              "      <td>19.502210</td>\n",
              "      <td>82.218747</td>\n",
              "    </tr>\n",
              "    <tr>\n",
              "      <th>08</th>\n",
              "      <td>79.292258</td>\n",
              "      <td>59.745484</td>\n",
              "      <td>100.330108</td>\n",
              "      <td>5042.366667</td>\n",
              "      <td>27.127204</td>\n",
              "      <td>12.565591</td>\n",
              "      <td>41.069892</td>\n",
              "      <td>330.313871</td>\n",
              "      <td>23.711613</td>\n",
              "      <td>20.754355</td>\n",
              "      <td>27.110000</td>\n",
              "      <td>1006.684839</td>\n",
              "      <td>9.145968</td>\n",
              "      <td>2.095000</td>\n",
              "      <td>20.456129</td>\n",
              "      <td>82.798065</td>\n",
              "    </tr>\n",
              "    <tr>\n",
              "      <th>09</th>\n",
              "      <td>95.379355</td>\n",
              "      <td>76.980968</td>\n",
              "      <td>115.694624</td>\n",
              "      <td>5034.924731</td>\n",
              "      <td>32.420753</td>\n",
              "      <td>11.497849</td>\n",
              "      <td>62.837634</td>\n",
              "      <td>354.110645</td>\n",
              "      <td>20.172624</td>\n",
              "      <td>16.567968</td>\n",
              "      <td>24.087903</td>\n",
              "      <td>1011.487812</td>\n",
              "      <td>8.055048</td>\n",
              "      <td>2.357753</td>\n",
              "      <td>16.035108</td>\n",
              "      <td>78.086726</td>\n",
              "    </tr>\n",
              "    <tr>\n",
              "      <th>10</th>\n",
              "      <td>102.632688</td>\n",
              "      <td>85.067634</td>\n",
              "      <td>122.727957</td>\n",
              "      <td>5035.294731</td>\n",
              "      <td>29.397419</td>\n",
              "      <td>10.554516</td>\n",
              "      <td>75.010968</td>\n",
              "      <td>371.830645</td>\n",
              "      <td>15.312489</td>\n",
              "      <td>11.086812</td>\n",
              "      <td>19.833489</td>\n",
              "      <td>1015.654812</td>\n",
              "      <td>3.016484</td>\n",
              "      <td>2.514349</td>\n",
              "      <td>8.703683</td>\n",
              "      <td>66.912898</td>\n",
              "    </tr>\n",
              "    <tr>\n",
              "      <th>11</th>\n",
              "      <td>101.319785</td>\n",
              "      <td>83.657957</td>\n",
              "      <td>121.156989</td>\n",
              "      <td>5039.901183</td>\n",
              "      <td>28.729677</td>\n",
              "      <td>10.554516</td>\n",
              "      <td>72.165806</td>\n",
              "      <td>363.572581</td>\n",
              "      <td>9.208183</td>\n",
              "      <td>5.021177</td>\n",
              "      <td>13.499161</td>\n",
              "      <td>1018.245887</td>\n",
              "      <td>2.790839</td>\n",
              "      <td>2.786247</td>\n",
              "      <td>0.445059</td>\n",
              "      <td>57.421785</td>\n",
              "    </tr>\n",
              "  </tbody>\n",
              "</table>\n",
              "</div>"
            ],
            "text/plain": [
              "                평균기온_x     최저기온_x      최고기온_x         기압_x      강수량_x  \\\n",
              "지점 연도   월                                                               \n",
              "90 2009 07   62.103318  41.577627   83.303149  5055.124040  15.020522   \n",
              "        08   79.292258  59.745484  100.330108  5042.366667  27.127204   \n",
              "        09   95.379355  76.980968  115.694624  5034.924731  32.420753   \n",
              "        10  102.632688  85.067634  122.727957  5035.294731  29.397419   \n",
              "        11  101.319785  83.657957  121.156989  5039.901183  28.729677   \n",
              "\n",
              "                 풍속_x      이슬점_x      상대습도_x     평균기온_y     최저기온_y     최고기온_y  \\\n",
              "지점 연도   월                                                                       \n",
              "90 2009 07  13.195776  16.915745  299.360300  22.901425  20.121140  26.175946   \n",
              "        08  12.565591  41.069892  330.313871  23.711613  20.754355  27.110000   \n",
              "        09  11.497849  62.837634  354.110645  20.172624  16.567968  24.087903   \n",
              "        10  10.554516  75.010968  371.830645  15.312489  11.086812  19.833489   \n",
              "        11  10.554516  72.165806  363.572581   9.208183   5.021177  13.499161   \n",
              "\n",
              "                   기압_y     강수량_y      풍속_y      이슬점_y     상대습도_y  \n",
              "지점 연도   월                                                          \n",
              "90 2009 07  1004.228828  8.056387  2.225097  19.502210  82.218747  \n",
              "        08  1006.684839  9.145968  2.095000  20.456129  82.798065  \n",
              "        09  1011.487812  8.055048  2.357753  16.035108  78.086726  \n",
              "        10  1015.654812  3.016484  2.514349   8.703683  66.912898  \n",
              "        11  1018.245887  2.790839  2.786247   0.445059  57.421785  "
            ]
          },
          "execution_count": 175,
          "metadata": {},
          "output_type": "execute_result"
        }
      ],
      "source": [
        "test_merge = pd.merge(left=asos_mean_priv_5m, right=asos_mean_20y, on=['지점', '연도', '월']).dropna().sort_index()\n",
        "test_merge.head()"
      ]
    },
    {
      "cell_type": "code",
      "execution_count": 176,
      "metadata": {},
      "outputs": [
        {
          "data": {
            "text/html": [
              "<div>\n",
              "<style scoped>\n",
              "    .dataframe tbody tr th:only-of-type {\n",
              "        vertical-align: middle;\n",
              "    }\n",
              "\n",
              "    .dataframe tbody tr th {\n",
              "        vertical-align: top;\n",
              "    }\n",
              "\n",
              "    .dataframe thead th {\n",
              "        text-align: right;\n",
              "    }\n",
              "</style>\n",
              "<table border=\"1\" class=\"dataframe\">\n",
              "  <thead>\n",
              "    <tr style=\"text-align: right;\">\n",
              "      <th></th>\n",
              "      <th></th>\n",
              "      <th></th>\n",
              "      <th>평균기온</th>\n",
              "      <th>최저기온</th>\n",
              "      <th>최고기온</th>\n",
              "      <th>기압</th>\n",
              "      <th>강수량</th>\n",
              "      <th>풍속</th>\n",
              "      <th>이슬점</th>\n",
              "      <th>상대습도</th>\n",
              "    </tr>\n",
              "    <tr>\n",
              "      <th>지점</th>\n",
              "      <th>연도</th>\n",
              "      <th>월</th>\n",
              "      <th></th>\n",
              "      <th></th>\n",
              "      <th></th>\n",
              "      <th></th>\n",
              "      <th></th>\n",
              "      <th></th>\n",
              "      <th></th>\n",
              "      <th></th>\n",
              "    </tr>\n",
              "  </thead>\n",
              "  <tbody>\n",
              "    <tr>\n",
              "      <th rowspan=\"5\" valign=\"top\">90</th>\n",
              "      <th rowspan=\"5\" valign=\"top\">2009</th>\n",
              "      <th>07</th>\n",
              "      <td>14.167457</td>\n",
              "      <td>10.283128</td>\n",
              "      <td>18.246516</td>\n",
              "      <td>1009.892145</td>\n",
              "      <td>3.846152</td>\n",
              "      <td>2.570145</td>\n",
              "      <td>6.069659</td>\n",
              "      <td>63.596508</td>\n",
              "    </tr>\n",
              "    <tr>\n",
              "      <th>08</th>\n",
              "      <td>17.167312</td>\n",
              "      <td>13.416640</td>\n",
              "      <td>21.240018</td>\n",
              "      <td>1008.175251</td>\n",
              "      <td>6.045529</td>\n",
              "      <td>2.443432</td>\n",
              "      <td>10.254337</td>\n",
              "      <td>68.851989</td>\n",
              "    </tr>\n",
              "    <tr>\n",
              "      <th>09</th>\n",
              "      <td>19.258663</td>\n",
              "      <td>15.591489</td>\n",
              "      <td>23.297088</td>\n",
              "      <td>1007.735424</td>\n",
              "      <td>6.745967</td>\n",
              "      <td>2.309267</td>\n",
              "      <td>13.145457</td>\n",
              "      <td>72.032895</td>\n",
              "    </tr>\n",
              "    <tr>\n",
              "      <th>10</th>\n",
              "      <td>19.657530</td>\n",
              "      <td>16.025741</td>\n",
              "      <td>23.760241</td>\n",
              "      <td>1008.491591</td>\n",
              "      <td>5.402317</td>\n",
              "      <td>2.178144</td>\n",
              "      <td>13.952442</td>\n",
              "      <td>73.123924</td>\n",
              "    </tr>\n",
              "    <tr>\n",
              "      <th>11</th>\n",
              "      <td>18.421328</td>\n",
              "      <td>14.779856</td>\n",
              "      <td>22.442692</td>\n",
              "      <td>1009.691178</td>\n",
              "      <td>5.253419</td>\n",
              "      <td>2.223461</td>\n",
              "      <td>12.101811</td>\n",
              "      <td>70.165728</td>\n",
              "    </tr>\n",
              "  </tbody>\n",
              "</table>\n",
              "</div>"
            ],
            "text/plain": [
              "                 평균기온       최저기온       최고기온           기압       강수량        풍속  \\\n",
              "지점 연도   월                                                                      \n",
              "90 2009 07  14.167457  10.283128  18.246516  1009.892145  3.846152  2.570145   \n",
              "        08  17.167312  13.416640  21.240018  1008.175251  6.045529  2.443432   \n",
              "        09  19.258663  15.591489  23.297088  1007.735424  6.745967  2.309267   \n",
              "        10  19.657530  16.025741  23.760241  1008.491591  5.402317  2.178144   \n",
              "        11  18.421328  14.779856  22.442692  1009.691178  5.253419  2.223461   \n",
              "\n",
              "                  이슬점       상대습도  \n",
              "지점 연도   월                         \n",
              "90 2009 07   6.069659  63.596508  \n",
              "        08  10.254337  68.851989  \n",
              "        09  13.145457  72.032895  \n",
              "        10  13.952442  73.123924  \n",
              "        11  12.101811  70.165728  "
            ]
          },
          "execution_count": 176,
          "metadata": {},
          "output_type": "execute_result"
        }
      ],
      "source": [
        "for col in asos_mean.columns:\n",
        "    test_merge[col] = (test_merge[col+'_x'] + test_merge[col+'_y']) / 6\n",
        "    test_merge.drop(columns=[col+'_x', col+'_y'], inplace=True)\n",
        "\n",
        "test_merge.head()"
      ]
    },
    {
      "cell_type": "code",
      "execution_count": 177,
      "metadata": {
        "colab": {
          "base_uri": "https://localhost:8080/"
        },
        "id": "PLaFBmSsFWfc",
        "outputId": "5f59fb03-599b-4140-db24-faf16bf09ffc"
      },
      "outputs": [
        {
          "data": {
            "text/plain": [
              "['CLM_SPI_DD_19910101_20001231.csv', 'CLM_SPI_DD_20010101_20101231.csv']"
            ]
          },
          "execution_count": 177,
          "metadata": {},
          "output_type": "execute_result"
        }
      ],
      "source": [
        "spi_csv_files = [file for file in files if file.startswith(\"CLM_SPI_\")]\n",
        "spi_csv_files[:2]"
      ]
    },
    {
      "cell_type": "code",
      "execution_count": 178,
      "metadata": {
        "colab": {
          "base_uri": "https://localhost:8080/",
          "height": 112
        },
        "id": "0A-a5lLDCDwp",
        "outputId": "35319021-9998-48d0-bcdf-a09fcf98cf6e"
      },
      "outputs": [
        {
          "data": {
            "text/html": [
              "<div>\n",
              "<style scoped>\n",
              "    .dataframe tbody tr th:only-of-type {\n",
              "        vertical-align: middle;\n",
              "    }\n",
              "\n",
              "    .dataframe tbody tr th {\n",
              "        vertical-align: top;\n",
              "    }\n",
              "\n",
              "    .dataframe thead th {\n",
              "        text-align: right;\n",
              "    }\n",
              "</style>\n",
              "<table border=\"1\" class=\"dataframe\">\n",
              "  <thead>\n",
              "    <tr style=\"text-align: right;\">\n",
              "      <th></th>\n",
              "      <th>지점</th>\n",
              "      <th>지점명</th>\n",
              "      <th>일시</th>\n",
              "      <th>SPI6</th>\n",
              "    </tr>\n",
              "  </thead>\n",
              "  <tbody>\n",
              "    <tr>\n",
              "      <th>0</th>\n",
              "      <td>90</td>\n",
              "      <td>속초</td>\n",
              "      <td>1991-01-02</td>\n",
              "      <td>1.457</td>\n",
              "    </tr>\n",
              "    <tr>\n",
              "      <th>1</th>\n",
              "      <td>90</td>\n",
              "      <td>속초</td>\n",
              "      <td>1991-01-03</td>\n",
              "      <td>1.478</td>\n",
              "    </tr>\n",
              "  </tbody>\n",
              "</table>\n",
              "</div>"
            ],
            "text/plain": [
              "   지점 지점명          일시   SPI6\n",
              "0  90  속초  1991-01-02  1.457\n",
              "1  90  속초  1991-01-03  1.478"
            ]
          },
          "execution_count": 178,
          "metadata": {},
          "output_type": "execute_result"
        }
      ],
      "source": [
        "tmp = []\n",
        "for csv_file in spi_csv_files:\n",
        "  tmp.append(pd.read_csv('../data/' + csv_file, encoding='euc-kr'))\n",
        "\n",
        "spi_raw = pd.concat(tmp)\n",
        "spi_raw.head(2)"
      ]
    },
    {
      "cell_type": "code",
      "execution_count": 179,
      "metadata": {
        "colab": {
          "base_uri": "https://localhost:8080/",
          "height": 112
        },
        "id": "5jjDFs85J5sb",
        "outputId": "48ce5eb9-400b-4b3c-ecc5-857eb293bfc2"
      },
      "outputs": [
        {
          "data": {
            "text/html": [
              "<div>\n",
              "<style scoped>\n",
              "    .dataframe tbody tr th:only-of-type {\n",
              "        vertical-align: middle;\n",
              "    }\n",
              "\n",
              "    .dataframe tbody tr th {\n",
              "        vertical-align: top;\n",
              "    }\n",
              "\n",
              "    .dataframe thead th {\n",
              "        text-align: right;\n",
              "    }\n",
              "</style>\n",
              "<table border=\"1\" class=\"dataframe\">\n",
              "  <thead>\n",
              "    <tr style=\"text-align: right;\">\n",
              "      <th></th>\n",
              "      <th>지점</th>\n",
              "      <th>일시</th>\n",
              "      <th>SPI6</th>\n",
              "    </tr>\n",
              "  </thead>\n",
              "  <tbody>\n",
              "    <tr>\n",
              "      <th>0</th>\n",
              "      <td>90</td>\n",
              "      <td>1991-01-02</td>\n",
              "      <td>1.457</td>\n",
              "    </tr>\n",
              "    <tr>\n",
              "      <th>1</th>\n",
              "      <td>273</td>\n",
              "      <td>1991-01-02</td>\n",
              "      <td>-0.544</td>\n",
              "    </tr>\n",
              "  </tbody>\n",
              "</table>\n",
              "</div>"
            ],
            "text/plain": [
              "    지점          일시   SPI6\n",
              "0   90  1991-01-02  1.457\n",
              "1  273  1991-01-02 -0.544"
            ]
          },
          "execution_count": 179,
          "metadata": {},
          "output_type": "execute_result"
        }
      ],
      "source": [
        "spi = spi_raw[['지점', '일시', 'SPI6']].copy()\n",
        "spi.sort_values('일시' ,inplace=True)\n",
        "spi.reset_index(drop=True, inplace=True)\n",
        "spi.head(2)"
      ]
    },
    {
      "cell_type": "code",
      "execution_count": 180,
      "metadata": {
        "colab": {
          "base_uri": "https://localhost:8080/",
          "height": 112
        },
        "id": "NGovH4r0Kgrr",
        "outputId": "4f2a18c9-c58f-4f0a-b3e0-acbb7698d02e"
      },
      "outputs": [
        {
          "data": {
            "text/html": [
              "<div>\n",
              "<style scoped>\n",
              "    .dataframe tbody tr th:only-of-type {\n",
              "        vertical-align: middle;\n",
              "    }\n",
              "\n",
              "    .dataframe tbody tr th {\n",
              "        vertical-align: top;\n",
              "    }\n",
              "\n",
              "    .dataframe thead th {\n",
              "        text-align: right;\n",
              "    }\n",
              "</style>\n",
              "<table border=\"1\" class=\"dataframe\">\n",
              "  <thead>\n",
              "    <tr style=\"text-align: right;\">\n",
              "      <th></th>\n",
              "      <th>지점</th>\n",
              "      <th>일시</th>\n",
              "      <th>SPI6</th>\n",
              "    </tr>\n",
              "  </thead>\n",
              "  <tbody>\n",
              "    <tr>\n",
              "      <th>235645</th>\n",
              "      <td>238</td>\n",
              "      <td>2022-06-08</td>\n",
              "      <td>-1.54</td>\n",
              "    </tr>\n",
              "    <tr>\n",
              "      <th>235646</th>\n",
              "      <td>238</td>\n",
              "      <td>2022-06-09</td>\n",
              "      <td>-1.61</td>\n",
              "    </tr>\n",
              "  </tbody>\n",
              "</table>\n",
              "</div>"
            ],
            "text/plain": [
              "         지점          일시  SPI6\n",
              "235645  238  2022-06-08 -1.54\n",
              "235646  238  2022-06-09 -1.61"
            ]
          },
          "execution_count": 180,
          "metadata": {},
          "output_type": "execute_result"
        }
      ],
      "source": [
        "spi.tail(2)"
      ]
    },
    {
      "cell_type": "code",
      "execution_count": 181,
      "metadata": {
        "colab": {
          "base_uri": "https://localhost:8080/"
        },
        "id": "oXmi9VfFKinG",
        "outputId": "0ac59e7d-e722-49aa-acf4-fa5cc208e05b"
      },
      "outputs": [
        {
          "name": "stdout",
          "output_type": "stream",
          "text": [
            "<class 'pandas.core.frame.DataFrame'>\n",
            "RangeIndex: 235647 entries, 0 to 235646\n",
            "Data columns (total 3 columns):\n",
            " #   Column  Non-Null Count   Dtype  \n",
            "---  ------  --------------   -----  \n",
            " 0   지점      235647 non-null  int64  \n",
            " 1   일시      235647 non-null  object \n",
            " 2   SPI6    235647 non-null  float64\n",
            "dtypes: float64(1), int64(1), object(1)\n",
            "memory usage: 5.4+ MB\n"
          ]
        }
      ],
      "source": [
        "spi.info()"
      ]
    },
    {
      "cell_type": "code",
      "execution_count": 182,
      "metadata": {
        "colab": {
          "base_uri": "https://localhost:8080/",
          "height": 206
        },
        "id": "IbbPudK5KzAU",
        "outputId": "dd007bd6-8204-4779-b961-f4e5243a6a98"
      },
      "outputs": [
        {
          "data": {
            "text/html": [
              "<div>\n",
              "<style scoped>\n",
              "    .dataframe tbody tr th:only-of-type {\n",
              "        vertical-align: middle;\n",
              "    }\n",
              "\n",
              "    .dataframe tbody tr th {\n",
              "        vertical-align: top;\n",
              "    }\n",
              "\n",
              "    .dataframe thead th {\n",
              "        text-align: right;\n",
              "    }\n",
              "</style>\n",
              "<table border=\"1\" class=\"dataframe\">\n",
              "  <thead>\n",
              "    <tr style=\"text-align: right;\">\n",
              "      <th></th>\n",
              "      <th>지점</th>\n",
              "      <th>일시</th>\n",
              "      <th>SPI6</th>\n",
              "      <th>연도</th>\n",
              "      <th>월</th>\n",
              "    </tr>\n",
              "  </thead>\n",
              "  <tbody>\n",
              "    <tr>\n",
              "      <th>0</th>\n",
              "      <td>90</td>\n",
              "      <td>1991-01-02</td>\n",
              "      <td>1.457</td>\n",
              "      <td>1991</td>\n",
              "      <td>01</td>\n",
              "    </tr>\n",
              "    <tr>\n",
              "      <th>1</th>\n",
              "      <td>273</td>\n",
              "      <td>1991-01-02</td>\n",
              "      <td>-0.544</td>\n",
              "      <td>1991</td>\n",
              "      <td>01</td>\n",
              "    </tr>\n",
              "    <tr>\n",
              "      <th>2</th>\n",
              "      <td>272</td>\n",
              "      <td>1991-01-02</td>\n",
              "      <td>-0.284</td>\n",
              "      <td>1991</td>\n",
              "      <td>01</td>\n",
              "    </tr>\n",
              "    <tr>\n",
              "      <th>3</th>\n",
              "      <td>100</td>\n",
              "      <td>1991-01-02</td>\n",
              "      <td>0.860</td>\n",
              "      <td>1991</td>\n",
              "      <td>01</td>\n",
              "    </tr>\n",
              "    <tr>\n",
              "      <th>4</th>\n",
              "      <td>238</td>\n",
              "      <td>1991-01-02</td>\n",
              "      <td>-0.695</td>\n",
              "      <td>1991</td>\n",
              "      <td>01</td>\n",
              "    </tr>\n",
              "  </tbody>\n",
              "</table>\n",
              "</div>"
            ],
            "text/plain": [
              "    지점          일시   SPI6    연도   월\n",
              "0   90  1991-01-02  1.457  1991  01\n",
              "1  273  1991-01-02 -0.544  1991  01\n",
              "2  272  1991-01-02 -0.284  1991  01\n",
              "3  100  1991-01-02  0.860  1991  01\n",
              "4  238  1991-01-02 -0.695  1991  01"
            ]
          },
          "execution_count": 182,
          "metadata": {},
          "output_type": "execute_result"
        }
      ],
      "source": [
        "spi['연도'] = spi['일시'].map(lambda x: x.split('-')[0])\n",
        "spi['월'] = spi['일시'].map(lambda x: x.split('-')[1])\n",
        "spi.head()"
      ]
    },
    {
      "cell_type": "code",
      "execution_count": 183,
      "metadata": {
        "colab": {
          "base_uri": "https://localhost:8080/",
          "height": 238
        },
        "id": "Sd4hghkBUWMO",
        "outputId": "a7fbbcfe-a392-43e8-ab35-4a423bddc010"
      },
      "outputs": [
        {
          "data": {
            "text/html": [
              "<div>\n",
              "<style scoped>\n",
              "    .dataframe tbody tr th:only-of-type {\n",
              "        vertical-align: middle;\n",
              "    }\n",
              "\n",
              "    .dataframe tbody tr th {\n",
              "        vertical-align: top;\n",
              "    }\n",
              "\n",
              "    .dataframe thead th {\n",
              "        text-align: right;\n",
              "    }\n",
              "</style>\n",
              "<table border=\"1\" class=\"dataframe\">\n",
              "  <thead>\n",
              "    <tr style=\"text-align: right;\">\n",
              "      <th></th>\n",
              "      <th></th>\n",
              "      <th></th>\n",
              "      <th>SPI6</th>\n",
              "    </tr>\n",
              "    <tr>\n",
              "      <th>지점</th>\n",
              "      <th>연도</th>\n",
              "      <th>월</th>\n",
              "      <th></th>\n",
              "    </tr>\n",
              "  </thead>\n",
              "  <tbody>\n",
              "    <tr>\n",
              "      <th rowspan=\"5\" valign=\"top\">90</th>\n",
              "      <th rowspan=\"5\" valign=\"top\">1991</th>\n",
              "      <th>01</th>\n",
              "      <td>1.276767</td>\n",
              "    </tr>\n",
              "    <tr>\n",
              "      <th>02</th>\n",
              "      <td>1.782500</td>\n",
              "    </tr>\n",
              "    <tr>\n",
              "      <th>03</th>\n",
              "      <td>0.452613</td>\n",
              "    </tr>\n",
              "    <tr>\n",
              "      <th>04</th>\n",
              "      <td>0.031967</td>\n",
              "    </tr>\n",
              "    <tr>\n",
              "      <th>05</th>\n",
              "      <td>-1.199903</td>\n",
              "    </tr>\n",
              "  </tbody>\n",
              "</table>\n",
              "</div>"
            ],
            "text/plain": [
              "                SPI6\n",
              "지점 연도   월           \n",
              "90 1991 01  1.276767\n",
              "        02  1.782500\n",
              "        03  0.452613\n",
              "        04  0.031967\n",
              "        05 -1.199903"
            ]
          },
          "execution_count": 183,
          "metadata": {},
          "output_type": "execute_result"
        }
      ],
      "source": [
        "spi_mean = spi.groupby(by=['지점', '연도', '월']).mean()\n",
        "spi_mean.head()"
      ]
    },
    {
      "cell_type": "code",
      "execution_count": 184,
      "metadata": {
        "colab": {
          "base_uri": "https://localhost:8080/",
          "height": 388
        },
        "id": "bSTqA_e4ZMDC",
        "outputId": "79c31045-066f-411c-cde9-b79e224935d9"
      },
      "outputs": [
        {
          "name": "stderr",
          "output_type": "stream",
          "text": [
            "c:\\Users\\zpala\\miniconda3\\envs\\ds_study\\lib\\site-packages\\IPython\\core\\pylabtools.py:151: UserWarning: Glyph 50672 (\\N{HANGUL SYLLABLE YEON}) missing from current font.\n",
            "  fig.canvas.print_figure(bytes_io, **kw)\n",
            "c:\\Users\\zpala\\miniconda3\\envs\\ds_study\\lib\\site-packages\\IPython\\core\\pylabtools.py:151: UserWarning: Glyph 46020 (\\N{HANGUL SYLLABLE DO}) missing from current font.\n",
            "  fig.canvas.print_figure(bytes_io, **kw)\n",
            "c:\\Users\\zpala\\miniconda3\\envs\\ds_study\\lib\\site-packages\\IPython\\core\\pylabtools.py:151: UserWarning: Glyph 50900 (\\N{HANGUL SYLLABLE WEOL}) missing from current font.\n",
            "  fig.canvas.print_figure(bytes_io, **kw)\n"
          ]
        },
        {
          "data": {
            "image/png": "[encoded data removed]",
            "text/plain": [
              "<Figure size 1440x432 with 1 Axes>"
            ]
          },
          "metadata": {
            "needs_background": "light"
          },
          "output_type": "display_data"
        }
      ],
      "source": [
        "import seaborn as sns\n",
        "\n",
        "spi_mean.loc[90].plot(figsize=(20, 6));"
      ]
    },
    {
      "cell_type": "code",
      "execution_count": 185,
      "metadata": {
        "colab": {
          "base_uri": "https://localhost:8080/",
          "height": 238
        },
        "id": "8YZYZzP4dsoY",
        "outputId": "bbb80a73-9839-4a45-cbdf-7af69847a4f9"
      },
      "outputs": [
        {
          "data": {
            "text/html": [
              "<div>\n",
              "<style scoped>\n",
              "    .dataframe tbody tr th:only-of-type {\n",
              "        vertical-align: middle;\n",
              "    }\n",
              "\n",
              "    .dataframe tbody tr th {\n",
              "        vertical-align: top;\n",
              "    }\n",
              "\n",
              "    .dataframe thead th {\n",
              "        text-align: right;\n",
              "    }\n",
              "</style>\n",
              "<table border=\"1\" class=\"dataframe\">\n",
              "  <thead>\n",
              "    <tr style=\"text-align: right;\">\n",
              "      <th></th>\n",
              "      <th></th>\n",
              "      <th></th>\n",
              "      <th>SPI6</th>\n",
              "    </tr>\n",
              "    <tr>\n",
              "      <th>지점</th>\n",
              "      <th>연도</th>\n",
              "      <th>월</th>\n",
              "      <th></th>\n",
              "    </tr>\n",
              "  </thead>\n",
              "  <tbody>\n",
              "    <tr>\n",
              "      <th rowspan=\"5\" valign=\"top\">90</th>\n",
              "      <th rowspan=\"5\" valign=\"top\">1991</th>\n",
              "      <th>01</th>\n",
              "      <td>0</td>\n",
              "    </tr>\n",
              "    <tr>\n",
              "      <th>02</th>\n",
              "      <td>0</td>\n",
              "    </tr>\n",
              "    <tr>\n",
              "      <th>03</th>\n",
              "      <td>0</td>\n",
              "    </tr>\n",
              "    <tr>\n",
              "      <th>04</th>\n",
              "      <td>0</td>\n",
              "    </tr>\n",
              "    <tr>\n",
              "      <th>05</th>\n",
              "      <td>1</td>\n",
              "    </tr>\n",
              "  </tbody>\n",
              "</table>\n",
              "</div>"
            ],
            "text/plain": [
              "            SPI6\n",
              "지점 연도   월       \n",
              "90 1991 01     0\n",
              "        02     0\n",
              "        03     0\n",
              "        04     0\n",
              "        05     1"
            ]
          },
          "execution_count": 185,
          "metadata": {},
          "output_type": "execute_result"
        }
      ],
      "source": [
        "spi_mean['SPI6'] = spi_mean['SPI6'].map(lambda x: 0 if x > -1 else 1)\n",
        "spi_mean.head()"
      ]
    },
    {
      "cell_type": "code",
      "execution_count": 186,
      "metadata": {
        "colab": {
          "base_uri": "https://localhost:8080/",
          "height": 388
        },
        "id": "2oaQgtlbfTtG",
        "outputId": "bf743c91-7d63-4a75-966c-32b4282164aa"
      },
      "outputs": [
        {
          "name": "stderr",
          "output_type": "stream",
          "text": [
            "c:\\Users\\zpala\\miniconda3\\envs\\ds_study\\lib\\site-packages\\IPython\\core\\pylabtools.py:151: UserWarning: Glyph 50672 (\\N{HANGUL SYLLABLE YEON}) missing from current font.\n",
            "  fig.canvas.print_figure(bytes_io, **kw)\n",
            "c:\\Users\\zpala\\miniconda3\\envs\\ds_study\\lib\\site-packages\\IPython\\core\\pylabtools.py:151: UserWarning: Glyph 46020 (\\N{HANGUL SYLLABLE DO}) missing from current font.\n",
            "  fig.canvas.print_figure(bytes_io, **kw)\n",
            "c:\\Users\\zpala\\miniconda3\\envs\\ds_study\\lib\\site-packages\\IPython\\core\\pylabtools.py:151: UserWarning: Glyph 50900 (\\N{HANGUL SYLLABLE WEOL}) missing from current font.\n",
            "  fig.canvas.print_figure(bytes_io, **kw)\n"
          ]
        },
        {
          "data": {
            "image/png": "[encoded data removed]",
            "text/plain": [
              "<Figure size 1440x432 with 1 Axes>"
            ]
          },
          "metadata": {
            "needs_background": "light"
          },
          "output_type": "display_data"
        }
      ],
      "source": [
        "spi_mean.loc[90].plot.line(figsize=(20, 6));"
      ]
    },
    {
      "cell_type": "code",
      "execution_count": 196,
      "metadata": {
        "colab": {
          "base_uri": "https://localhost:8080/",
          "height": 238
        },
        "id": "QBQLFungUfXr",
        "outputId": "560c6cb9-f4d5-4e1b-c0ae-77985ba37452"
      },
      "outputs": [
        {
          "data": {
            "text/html": [
              "<div>\n",
              "<style scoped>\n",
              "    .dataframe tbody tr th:only-of-type {\n",
              "        vertical-align: middle;\n",
              "    }\n",
              "\n",
              "    .dataframe tbody tr th {\n",
              "        vertical-align: top;\n",
              "    }\n",
              "\n",
              "    .dataframe thead th {\n",
              "        text-align: right;\n",
              "    }\n",
              "</style>\n",
              "<table border=\"1\" class=\"dataframe\">\n",
              "  <thead>\n",
              "    <tr style=\"text-align: right;\">\n",
              "      <th></th>\n",
              "      <th></th>\n",
              "      <th></th>\n",
              "      <th>평균기온</th>\n",
              "      <th>최저기온</th>\n",
              "      <th>최고기온</th>\n",
              "      <th>기압</th>\n",
              "      <th>강수량</th>\n",
              "      <th>풍속</th>\n",
              "      <th>이슬점</th>\n",
              "      <th>상대습도</th>\n",
              "      <th>SPI6</th>\n",
              "    </tr>\n",
              "    <tr>\n",
              "      <th>지점</th>\n",
              "      <th>연도</th>\n",
              "      <th>월</th>\n",
              "      <th></th>\n",
              "      <th></th>\n",
              "      <th></th>\n",
              "      <th></th>\n",
              "      <th></th>\n",
              "      <th></th>\n",
              "      <th></th>\n",
              "      <th></th>\n",
              "      <th></th>\n",
              "    </tr>\n",
              "  </thead>\n",
              "  <tbody>\n",
              "    <tr>\n",
              "      <th rowspan=\"2\" valign=\"top\">90</th>\n",
              "      <th rowspan=\"2\" valign=\"top\">1991</th>\n",
              "      <th>01</th>\n",
              "      <td>12.095143</td>\n",
              "      <td>8.574409</td>\n",
              "      <td>16.091595</td>\n",
              "      <td>1016.753387</td>\n",
              "      <td>5.460573</td>\n",
              "      <td>2.996685</td>\n",
              "      <td>6.185932</td>\n",
              "      <td>69.743889</td>\n",
              "      <td>0</td>\n",
              "    </tr>\n",
              "    <tr>\n",
              "      <th>02</th>\n",
              "      <td>7.983546</td>\n",
              "      <td>4.363387</td>\n",
              "      <td>12.017325</td>\n",
              "      <td>1018.632016</td>\n",
              "      <td>5.017083</td>\n",
              "      <td>3.173643</td>\n",
              "      <td>1.150237</td>\n",
              "      <td>64.995291</td>\n",
              "      <td>0</td>\n",
              "    </tr>\n",
              "  </tbody>\n",
              "</table>\n",
              "</div>"
            ],
            "text/plain": [
              "                 평균기온      최저기온       최고기온           기압       강수량        풍속  \\\n",
              "지점 연도   월                                                                     \n",
              "90 1991 01  12.095143  8.574409  16.091595  1016.753387  5.460573  2.996685   \n",
              "        02   7.983546  4.363387  12.017325  1018.632016  5.017083  3.173643   \n",
              "\n",
              "                 이슬점       상대습도  SPI6  \n",
              "지점 연도   월                              \n",
              "90 1991 01  6.185932  69.743889     0  \n",
              "        02  1.150237  64.995291     0  "
            ]
          },
          "execution_count": 196,
          "metadata": {},
          "output_type": "execute_result"
        }
      ],
      "source": [
        "train_data_raw = pd.merge(asos_mean_6m, spi_mean, on=['지점', '연도', '월']).dropna().sort_index()\n",
        "train_data_raw.head(2)"
      ]
    },
    {
      "cell_type": "code",
      "execution_count": 204,
      "metadata": {},
      "outputs": [
        {
          "data": {
            "text/html": [
              "<div>\n",
              "<style scoped>\n",
              "    .dataframe tbody tr th:only-of-type {\n",
              "        vertical-align: middle;\n",
              "    }\n",
              "\n",
              "    .dataframe tbody tr th {\n",
              "        vertical-align: top;\n",
              "    }\n",
              "\n",
              "    .dataframe thead th {\n",
              "        text-align: right;\n",
              "    }\n",
              "</style>\n",
              "<table border=\"1\" class=\"dataframe\">\n",
              "  <thead>\n",
              "    <tr style=\"text-align: right;\">\n",
              "      <th></th>\n",
              "      <th></th>\n",
              "      <th></th>\n",
              "      <th>평균기온</th>\n",
              "      <th>최저기온</th>\n",
              "      <th>최고기온</th>\n",
              "      <th>기압</th>\n",
              "      <th>강수량</th>\n",
              "      <th>풍속</th>\n",
              "      <th>이슬점</th>\n",
              "      <th>상대습도</th>\n",
              "      <th>SPI6</th>\n",
              "    </tr>\n",
              "    <tr>\n",
              "      <th>지점</th>\n",
              "      <th>연도</th>\n",
              "      <th>월</th>\n",
              "      <th></th>\n",
              "      <th></th>\n",
              "      <th></th>\n",
              "      <th></th>\n",
              "      <th></th>\n",
              "      <th></th>\n",
              "      <th></th>\n",
              "      <th></th>\n",
              "      <th></th>\n",
              "    </tr>\n",
              "  </thead>\n",
              "  <tbody>\n",
              "    <tr>\n",
              "      <th rowspan=\"5\" valign=\"top\">90</th>\n",
              "      <th rowspan=\"5\" valign=\"top\">1991</th>\n",
              "      <th>01</th>\n",
              "      <td>12.095143</td>\n",
              "      <td>8.574409</td>\n",
              "      <td>16.091595</td>\n",
              "      <td>1016.753387</td>\n",
              "      <td>5.460573</td>\n",
              "      <td>2.996685</td>\n",
              "      <td>6.185932</td>\n",
              "      <td>69.743889</td>\n",
              "      <td>0</td>\n",
              "    </tr>\n",
              "    <tr>\n",
              "      <th>02</th>\n",
              "      <td>7.983546</td>\n",
              "      <td>4.363387</td>\n",
              "      <td>12.017325</td>\n",
              "      <td>1018.632016</td>\n",
              "      <td>5.017083</td>\n",
              "      <td>3.173643</td>\n",
              "      <td>1.150237</td>\n",
              "      <td>64.995291</td>\n",
              "      <td>0</td>\n",
              "    </tr>\n",
              "    <tr>\n",
              "      <th>03</th>\n",
              "      <td>5.446001</td>\n",
              "      <td>1.862258</td>\n",
              "      <td>9.409816</td>\n",
              "      <td>1019.291013</td>\n",
              "      <td>1.965040</td>\n",
              "      <td>3.280991</td>\n",
              "      <td>-1.793742</td>\n",
              "      <td>62.777172</td>\n",
              "      <td>0</td>\n",
              "    </tr>\n",
              "    <tr>\n",
              "      <th>04</th>\n",
              "      <td>4.738026</td>\n",
              "      <td>1.067294</td>\n",
              "      <td>8.678651</td>\n",
              "      <td>1018.344597</td>\n",
              "      <td>1.681832</td>\n",
              "      <td>3.362102</td>\n",
              "      <td>-2.867541</td>\n",
              "      <td>61.565291</td>\n",
              "      <td>0</td>\n",
              "    </tr>\n",
              "    <tr>\n",
              "      <th>05</th>\n",
              "      <td>5.465911</td>\n",
              "      <td>1.676810</td>\n",
              "      <td>9.428436</td>\n",
              "      <td>1016.539203</td>\n",
              "      <td>1.300721</td>\n",
              "      <td>3.318285</td>\n",
              "      <td>-2.171860</td>\n",
              "      <td>61.805649</td>\n",
              "      <td>1</td>\n",
              "    </tr>\n",
              "    <tr>\n",
              "      <th>...</th>\n",
              "      <th>...</th>\n",
              "      <th>...</th>\n",
              "      <td>...</td>\n",
              "      <td>...</td>\n",
              "      <td>...</td>\n",
              "      <td>...</td>\n",
              "      <td>...</td>\n",
              "      <td>...</td>\n",
              "      <td>...</td>\n",
              "      <td>...</td>\n",
              "      <td>...</td>\n",
              "    </tr>\n",
              "    <tr>\n",
              "      <th rowspan=\"5\" valign=\"top\">281</th>\n",
              "      <th rowspan=\"5\" valign=\"top\">2017</th>\n",
              "      <th>08</th>\n",
              "      <td>19.469122</td>\n",
              "      <td>13.330161</td>\n",
              "      <td>26.231523</td>\n",
              "      <td>1000.428280</td>\n",
              "      <td>2.833011</td>\n",
              "      <td>1.829229</td>\n",
              "      <td>10.068244</td>\n",
              "      <td>60.516774</td>\n",
              "      <td>1</td>\n",
              "    </tr>\n",
              "    <tr>\n",
              "      <th>09</th>\n",
              "      <td>21.741935</td>\n",
              "      <td>15.762491</td>\n",
              "      <td>28.350287</td>\n",
              "      <td>999.542473</td>\n",
              "      <td>3.163746</td>\n",
              "      <td>1.755197</td>\n",
              "      <td>12.991362</td>\n",
              "      <td>63.086487</td>\n",
              "      <td>1</td>\n",
              "    </tr>\n",
              "    <tr>\n",
              "      <th>10</th>\n",
              "      <td>21.889265</td>\n",
              "      <td>16.350036</td>\n",
              "      <td>28.281380</td>\n",
              "      <td>1000.830842</td>\n",
              "      <td>3.034427</td>\n",
              "      <td>1.638710</td>\n",
              "      <td>14.049857</td>\n",
              "      <td>65.888136</td>\n",
              "      <td>1</td>\n",
              "    </tr>\n",
              "    <tr>\n",
              "      <th>11</th>\n",
              "      <td>19.713513</td>\n",
              "      <td>14.276559</td>\n",
              "      <td>26.112294</td>\n",
              "      <td>1002.424211</td>\n",
              "      <td>2.902724</td>\n",
              "      <td>1.608710</td>\n",
              "      <td>12.206183</td>\n",
              "      <td>65.984265</td>\n",
              "      <td>1</td>\n",
              "    </tr>\n",
              "    <tr>\n",
              "      <th>12</th>\n",
              "      <td>15.930394</td>\n",
              "      <td>10.607778</td>\n",
              "      <td>22.165269</td>\n",
              "      <td>1004.929068</td>\n",
              "      <td>2.875376</td>\n",
              "      <td>1.700269</td>\n",
              "      <td>8.196111</td>\n",
              "      <td>64.021219</td>\n",
              "      <td>0</td>\n",
              "    </tr>\n",
              "  </tbody>\n",
              "</table>\n",
              "<p>6480 rows × 9 columns</p>\n",
              "</div>"
            ],
            "text/plain": [
              "                  평균기온       최저기온       최고기온           기압       강수량        풍속  \\\n",
              "지점  연도   월                                                                      \n",
              "90  1991 01  12.095143   8.574409  16.091595  1016.753387  5.460573  2.996685   \n",
              "         02   7.983546   4.363387  12.017325  1018.632016  5.017083  3.173643   \n",
              "         03   5.446001   1.862258   9.409816  1019.291013  1.965040  3.280991   \n",
              "         04   4.738026   1.067294   8.678651  1018.344597  1.681832  3.362102   \n",
              "         05   5.465911   1.676810   9.428436  1016.539203  1.300721  3.318285   \n",
              "...                ...        ...        ...          ...       ...       ...   \n",
              "281 2017 08  19.469122  13.330161  26.231523  1000.428280  2.833011  1.829229   \n",
              "         09  21.741935  15.762491  28.350287   999.542473  3.163746  1.755197   \n",
              "         10  21.889265  16.350036  28.281380  1000.830842  3.034427  1.638710   \n",
              "         11  19.713513  14.276559  26.112294  1002.424211  2.902724  1.608710   \n",
              "         12  15.930394  10.607778  22.165269  1004.929068  2.875376  1.700269   \n",
              "\n",
              "                   이슬점       상대습도  SPI6  \n",
              "지점  연도   월                               \n",
              "90  1991 01   6.185932  69.743889     0  \n",
              "         02   1.150237  64.995291     0  \n",
              "         03  -1.793742  62.777172     0  \n",
              "         04  -2.867541  61.565291     0  \n",
              "         05  -2.171860  61.805649     1  \n",
              "...                ...        ...   ...  \n",
              "281 2017 08  10.068244  60.516774     1  \n",
              "         09  12.991362  63.086487     1  \n",
              "         10  14.049857  65.888136     1  \n",
              "         11  12.206183  65.984265     1  \n",
              "         12   8.196111  64.021219     0  \n",
              "\n",
              "[6480 rows x 9 columns]"
            ]
          },
          "execution_count": 204,
          "metadata": {},
          "output_type": "execute_result"
        }
      ],
      "source": [
        "train_data = train_data_raw.loc[:,:'2017',:]\n",
        "train_data"
      ]
    },
    {
      "cell_type": "code",
      "execution_count": 200,
      "metadata": {},
      "outputs": [
        {
          "data": {
            "text/html": [
              "<div>\n",
              "<style scoped>\n",
              "    .dataframe tbody tr th:only-of-type {\n",
              "        vertical-align: middle;\n",
              "    }\n",
              "\n",
              "    .dataframe tbody tr th {\n",
              "        vertical-align: top;\n",
              "    }\n",
              "\n",
              "    .dataframe thead th {\n",
              "        text-align: right;\n",
              "    }\n",
              "</style>\n",
              "<table border=\"1\" class=\"dataframe\">\n",
              "  <thead>\n",
              "    <tr style=\"text-align: right;\">\n",
              "      <th></th>\n",
              "      <th></th>\n",
              "      <th></th>\n",
              "      <th>평균기온</th>\n",
              "      <th>최저기온</th>\n",
              "      <th>최고기온</th>\n",
              "      <th>기압</th>\n",
              "      <th>강수량</th>\n",
              "      <th>풍속</th>\n",
              "      <th>이슬점</th>\n",
              "      <th>상대습도</th>\n",
              "      <th>SPI6</th>\n",
              "    </tr>\n",
              "    <tr>\n",
              "      <th>지점</th>\n",
              "      <th>연도</th>\n",
              "      <th>월</th>\n",
              "      <th></th>\n",
              "      <th></th>\n",
              "      <th></th>\n",
              "      <th></th>\n",
              "      <th></th>\n",
              "      <th></th>\n",
              "      <th></th>\n",
              "      <th></th>\n",
              "      <th></th>\n",
              "    </tr>\n",
              "  </thead>\n",
              "  <tbody>\n",
              "    <tr>\n",
              "      <th rowspan=\"2\" valign=\"top\">90</th>\n",
              "      <th rowspan=\"2\" valign=\"top\">2009</th>\n",
              "      <th>07</th>\n",
              "      <td>14.167457</td>\n",
              "      <td>10.283128</td>\n",
              "      <td>18.246516</td>\n",
              "      <td>1009.892145</td>\n",
              "      <td>3.846152</td>\n",
              "      <td>2.570145</td>\n",
              "      <td>6.069659</td>\n",
              "      <td>63.596508</td>\n",
              "      <td>0</td>\n",
              "    </tr>\n",
              "    <tr>\n",
              "      <th>08</th>\n",
              "      <td>17.167312</td>\n",
              "      <td>13.416640</td>\n",
              "      <td>21.240018</td>\n",
              "      <td>1008.175251</td>\n",
              "      <td>6.045529</td>\n",
              "      <td>2.443432</td>\n",
              "      <td>10.254337</td>\n",
              "      <td>68.851989</td>\n",
              "      <td>0</td>\n",
              "    </tr>\n",
              "  </tbody>\n",
              "</table>\n",
              "</div>"
            ],
            "text/plain": [
              "                 평균기온       최저기온       최고기온           기압       강수량        풍속  \\\n",
              "지점 연도   월                                                                      \n",
              "90 2009 07  14.167457  10.283128  18.246516  1009.892145  3.846152  2.570145   \n",
              "        08  17.167312  13.416640  21.240018  1008.175251  6.045529  2.443432   \n",
              "\n",
              "                  이슬점       상대습도  SPI6  \n",
              "지점 연도   월                               \n",
              "90 2009 07   6.069659  63.596508     0  \n",
              "        08  10.254337  68.851989     0  "
            ]
          },
          "execution_count": 200,
          "metadata": {},
          "output_type": "execute_result"
        }
      ],
      "source": [
        "test_data_raw = pd.merge(test_merge, spi_mean, on=['지점', '연도', '월']).dropna().sort_index()\n",
        "test_data_raw.head(2)"
      ]
    },
    {
      "cell_type": "code",
      "execution_count": 203,
      "metadata": {},
      "outputs": [
        {
          "data": {
            "text/html": [
              "<div>\n",
              "<style scoped>\n",
              "    .dataframe tbody tr th:only-of-type {\n",
              "        vertical-align: middle;\n",
              "    }\n",
              "\n",
              "    .dataframe tbody tr th {\n",
              "        vertical-align: top;\n",
              "    }\n",
              "\n",
              "    .dataframe thead th {\n",
              "        text-align: right;\n",
              "    }\n",
              "</style>\n",
              "<table border=\"1\" class=\"dataframe\">\n",
              "  <thead>\n",
              "    <tr style=\"text-align: right;\">\n",
              "      <th></th>\n",
              "      <th></th>\n",
              "      <th></th>\n",
              "      <th>평균기온</th>\n",
              "      <th>최저기온</th>\n",
              "      <th>최고기온</th>\n",
              "      <th>기압</th>\n",
              "      <th>강수량</th>\n",
              "      <th>풍속</th>\n",
              "      <th>이슬점</th>\n",
              "      <th>상대습도</th>\n",
              "      <th>SPI6</th>\n",
              "    </tr>\n",
              "    <tr>\n",
              "      <th>지점</th>\n",
              "      <th>연도</th>\n",
              "      <th>월</th>\n",
              "      <th></th>\n",
              "      <th></th>\n",
              "      <th></th>\n",
              "      <th></th>\n",
              "      <th></th>\n",
              "      <th></th>\n",
              "      <th></th>\n",
              "      <th></th>\n",
              "      <th></th>\n",
              "    </tr>\n",
              "  </thead>\n",
              "  <tbody>\n",
              "    <tr>\n",
              "      <th rowspan=\"5\" valign=\"top\">90</th>\n",
              "      <th rowspan=\"5\" valign=\"top\">2018</th>\n",
              "      <th>01</th>\n",
              "      <td>11.251927</td>\n",
              "      <td>7.194480</td>\n",
              "      <td>15.269355</td>\n",
              "      <td>1015.516210</td>\n",
              "      <td>3.788530</td>\n",
              "      <td>1.902464</td>\n",
              "      <td>2.623620</td>\n",
              "      <td>59.475108</td>\n",
              "      <td>0</td>\n",
              "    </tr>\n",
              "    <tr>\n",
              "      <th>02</th>\n",
              "      <td>7.407807</td>\n",
              "      <td>3.039270</td>\n",
              "      <td>11.621082</td>\n",
              "      <td>1017.400150</td>\n",
              "      <td>1.561228</td>\n",
              "      <td>2.049484</td>\n",
              "      <td>-2.803660</td>\n",
              "      <td>52.350947</td>\n",
              "      <td>1</td>\n",
              "    </tr>\n",
              "    <tr>\n",
              "      <th>03</th>\n",
              "      <td>4.597023</td>\n",
              "      <td>0.207711</td>\n",
              "      <td>8.869910</td>\n",
              "      <td>1018.163839</td>\n",
              "      <td>1.633075</td>\n",
              "      <td>2.153167</td>\n",
              "      <td>-6.654799</td>\n",
              "      <td>48.178038</td>\n",
              "      <td>0</td>\n",
              "    </tr>\n",
              "    <tr>\n",
              "      <th>04</th>\n",
              "      <td>4.448274</td>\n",
              "      <td>-0.122687</td>\n",
              "      <td>8.791848</td>\n",
              "      <td>1017.231631</td>\n",
              "      <td>1.348424</td>\n",
              "      <td>2.245463</td>\n",
              "      <td>-7.250312</td>\n",
              "      <td>46.682082</td>\n",
              "      <td>0</td>\n",
              "    </tr>\n",
              "    <tr>\n",
              "      <th>05</th>\n",
              "      <td>6.058358</td>\n",
              "      <td>1.444252</td>\n",
              "      <td>10.639256</td>\n",
              "      <td>1015.781886</td>\n",
              "      <td>1.876758</td>\n",
              "      <td>2.213920</td>\n",
              "      <td>-4.949790</td>\n",
              "      <td>50.144955</td>\n",
              "      <td>0</td>\n",
              "    </tr>\n",
              "    <tr>\n",
              "      <th>...</th>\n",
              "      <th>...</th>\n",
              "      <th>...</th>\n",
              "      <td>...</td>\n",
              "      <td>...</td>\n",
              "      <td>...</td>\n",
              "      <td>...</td>\n",
              "      <td>...</td>\n",
              "      <td>...</td>\n",
              "      <td>...</td>\n",
              "      <td>...</td>\n",
              "      <td>...</td>\n",
              "    </tr>\n",
              "    <tr>\n",
              "      <th rowspan=\"5\" valign=\"top\">281</th>\n",
              "      <th rowspan=\"5\" valign=\"top\">2022</th>\n",
              "      <th>01</th>\n",
              "      <td>11.587258</td>\n",
              "      <td>6.675726</td>\n",
              "      <td>17.662778</td>\n",
              "      <td>1007.746971</td>\n",
              "      <td>2.863817</td>\n",
              "      <td>1.531201</td>\n",
              "      <td>6.074830</td>\n",
              "      <td>72.254821</td>\n",
              "      <td>0</td>\n",
              "    </tr>\n",
              "    <tr>\n",
              "      <th>02</th>\n",
              "      <td>7.875273</td>\n",
              "      <td>2.421746</td>\n",
              "      <td>14.393959</td>\n",
              "      <td>1009.878348</td>\n",
              "      <td>1.451177</td>\n",
              "      <td>1.605658</td>\n",
              "      <td>1.119202</td>\n",
              "      <td>66.557564</td>\n",
              "      <td>0</td>\n",
              "    </tr>\n",
              "    <tr>\n",
              "      <th>03</th>\n",
              "      <td>5.340140</td>\n",
              "      <td>-0.600774</td>\n",
              "      <td>12.233719</td>\n",
              "      <td>1010.935307</td>\n",
              "      <td>0.907536</td>\n",
              "      <td>1.794688</td>\n",
              "      <td>-2.806353</td>\n",
              "      <td>60.522564</td>\n",
              "      <td>0</td>\n",
              "    </tr>\n",
              "    <tr>\n",
              "      <th>04</th>\n",
              "      <td>5.179838</td>\n",
              "      <td>-1.055910</td>\n",
              "      <td>12.088504</td>\n",
              "      <td>1009.666947</td>\n",
              "      <td>0.954867</td>\n",
              "      <td>1.923704</td>\n",
              "      <td>-3.787916</td>\n",
              "      <td>57.321051</td>\n",
              "      <td>1</td>\n",
              "    </tr>\n",
              "    <tr>\n",
              "      <th>05</th>\n",
              "      <td>7.110677</td>\n",
              "      <td>0.595821</td>\n",
              "      <td>13.933109</td>\n",
              "      <td>1008.687413</td>\n",
              "      <td>0.906801</td>\n",
              "      <td>1.921883</td>\n",
              "      <td>-2.415045</td>\n",
              "      <td>55.847672</td>\n",
              "      <td>1</td>\n",
              "    </tr>\n",
              "  </tbody>\n",
              "</table>\n",
              "<p>1264 rows × 9 columns</p>\n",
              "</div>"
            ],
            "text/plain": [
              "                  평균기온      최저기온       최고기온           기압       강수량        풍속  \\\n",
              "지점  연도   월                                                                     \n",
              "90  2018 01  11.251927  7.194480  15.269355  1015.516210  3.788530  1.902464   \n",
              "         02   7.407807  3.039270  11.621082  1017.400150  1.561228  2.049484   \n",
              "         03   4.597023  0.207711   8.869910  1018.163839  1.633075  2.153167   \n",
              "         04   4.448274 -0.122687   8.791848  1017.231631  1.348424  2.245463   \n",
              "         05   6.058358  1.444252  10.639256  1015.781886  1.876758  2.213920   \n",
              "...                ...       ...        ...          ...       ...       ...   \n",
              "281 2022 01  11.587258  6.675726  17.662778  1007.746971  2.863817  1.531201   \n",
              "         02   7.875273  2.421746  14.393959  1009.878348  1.451177  1.605658   \n",
              "         03   5.340140 -0.600774  12.233719  1010.935307  0.907536  1.794688   \n",
              "         04   5.179838 -1.055910  12.088504  1009.666947  0.954867  1.923704   \n",
              "         05   7.110677  0.595821  13.933109  1008.687413  0.906801  1.921883   \n",
              "\n",
              "                  이슬점       상대습도  SPI6  \n",
              "지점  연도   월                              \n",
              "90  2018 01  2.623620  59.475108     0  \n",
              "         02 -2.803660  52.350947     1  \n",
              "         03 -6.654799  48.178038     0  \n",
              "         04 -7.250312  46.682082     0  \n",
              "         05 -4.949790  50.144955     0  \n",
              "...               ...        ...   ...  \n",
              "281 2022 01  6.074830  72.254821     0  \n",
              "         02  1.119202  66.557564     0  \n",
              "         03 -2.806353  60.522564     0  \n",
              "         04 -3.787916  57.321051     1  \n",
              "         05 -2.415045  55.847672     1  \n",
              "\n",
              "[1264 rows x 9 columns]"
            ]
          },
          "execution_count": 203,
          "metadata": {},
          "output_type": "execute_result"
        }
      ],
      "source": [
        "test_data = test_data_raw.loc[:,'2018':,:]\n",
        "test_data"
      ]
    },
    {
      "cell_type": "code",
      "execution_count": 119,
      "metadata": {
        "colab": {
          "base_uri": "https://localhost:8080/",
          "height": 296
        },
        "id": "zxq9arVzVaFo",
        "outputId": "03d45c50-9e3f-450f-933c-5e49ae2928e2"
      },
      "outputs": [
        {
          "name": "stderr",
          "output_type": "stream",
          "text": [
            "c:\\Users\\zpala\\miniconda3\\envs\\ds_study\\lib\\site-packages\\seaborn\\utils.py:95: UserWarning: Glyph 54217 (\\N{HANGUL SYLLABLE PYEONG}) missing from current font.\n",
            "  fig.canvas.draw()\n",
            "c:\\Users\\zpala\\miniconda3\\envs\\ds_study\\lib\\site-packages\\seaborn\\utils.py:95: UserWarning: Glyph 44512 (\\N{HANGUL SYLLABLE GYUN}) missing from current font.\n",
            "  fig.canvas.draw()\n",
            "c:\\Users\\zpala\\miniconda3\\envs\\ds_study\\lib\\site-packages\\seaborn\\utils.py:95: UserWarning: Glyph 44592 (\\N{HANGUL SYLLABLE GI}) missing from current font.\n",
            "  fig.canvas.draw()\n",
            "c:\\Users\\zpala\\miniconda3\\envs\\ds_study\\lib\\site-packages\\seaborn\\utils.py:95: UserWarning: Glyph 50728 (\\N{HANGUL SYLLABLE ON}) missing from current font.\n",
            "  fig.canvas.draw()\n",
            "c:\\Users\\zpala\\miniconda3\\envs\\ds_study\\lib\\site-packages\\seaborn\\utils.py:95: UserWarning: Glyph 52572 (\\N{HANGUL SYLLABLE COE}) missing from current font.\n",
            "  fig.canvas.draw()\n",
            "c:\\Users\\zpala\\miniconda3\\envs\\ds_study\\lib\\site-packages\\seaborn\\utils.py:95: UserWarning: Glyph 51200 (\\N{HANGUL SYLLABLE JEO}) missing from current font.\n",
            "  fig.canvas.draw()\n",
            "c:\\Users\\zpala\\miniconda3\\envs\\ds_study\\lib\\site-packages\\seaborn\\utils.py:95: UserWarning: Glyph 44256 (\\N{HANGUL SYLLABLE GO}) missing from current font.\n",
            "  fig.canvas.draw()\n",
            "c:\\Users\\zpala\\miniconda3\\envs\\ds_study\\lib\\site-packages\\seaborn\\utils.py:95: UserWarning: Glyph 50517 (\\N{HANGUL SYLLABLE AB}) missing from current font.\n",
            "  fig.canvas.draw()\n",
            "c:\\Users\\zpala\\miniconda3\\envs\\ds_study\\lib\\site-packages\\seaborn\\utils.py:95: UserWarning: Glyph 44053 (\\N{HANGUL SYLLABLE GANG}) missing from current font.\n",
            "  fig.canvas.draw()\n",
            "c:\\Users\\zpala\\miniconda3\\envs\\ds_study\\lib\\site-packages\\seaborn\\utils.py:95: UserWarning: Glyph 49688 (\\N{HANGUL SYLLABLE SU}) missing from current font.\n",
            "  fig.canvas.draw()\n",
            "c:\\Users\\zpala\\miniconda3\\envs\\ds_study\\lib\\site-packages\\seaborn\\utils.py:95: UserWarning: Glyph 47049 (\\N{HANGUL SYLLABLE RYANG}) missing from current font.\n",
            "  fig.canvas.draw()\n",
            "c:\\Users\\zpala\\miniconda3\\envs\\ds_study\\lib\\site-packages\\seaborn\\utils.py:95: UserWarning: Glyph 54413 (\\N{HANGUL SYLLABLE PUNG}) missing from current font.\n",
            "  fig.canvas.draw()\n",
            "c:\\Users\\zpala\\miniconda3\\envs\\ds_study\\lib\\site-packages\\seaborn\\utils.py:95: UserWarning: Glyph 49549 (\\N{HANGUL SYLLABLE SOG}) missing from current font.\n",
            "  fig.canvas.draw()\n",
            "c:\\Users\\zpala\\miniconda3\\envs\\ds_study\\lib\\site-packages\\seaborn\\utils.py:95: UserWarning: Glyph 51060 (\\N{HANGUL SYLLABLE I}) missing from current font.\n",
            "  fig.canvas.draw()\n",
            "c:\\Users\\zpala\\miniconda3\\envs\\ds_study\\lib\\site-packages\\seaborn\\utils.py:95: UserWarning: Glyph 49836 (\\N{HANGUL SYLLABLE SEUL}) missing from current font.\n",
            "  fig.canvas.draw()\n",
            "c:\\Users\\zpala\\miniconda3\\envs\\ds_study\\lib\\site-packages\\seaborn\\utils.py:95: UserWarning: Glyph 51216 (\\N{HANGUL SYLLABLE JEOM}) missing from current font.\n",
            "  fig.canvas.draw()\n",
            "c:\\Users\\zpala\\miniconda3\\envs\\ds_study\\lib\\site-packages\\seaborn\\utils.py:95: UserWarning: Glyph 49345 (\\N{HANGUL SYLLABLE SANG}) missing from current font.\n",
            "  fig.canvas.draw()\n",
            "c:\\Users\\zpala\\miniconda3\\envs\\ds_study\\lib\\site-packages\\seaborn\\utils.py:95: UserWarning: Glyph 45824 (\\N{HANGUL SYLLABLE DAE}) missing from current font.\n",
            "  fig.canvas.draw()\n",
            "c:\\Users\\zpala\\miniconda3\\envs\\ds_study\\lib\\site-packages\\seaborn\\utils.py:95: UserWarning: Glyph 49845 (\\N{HANGUL SYLLABLE SEUB}) missing from current font.\n",
            "  fig.canvas.draw()\n",
            "c:\\Users\\zpala\\miniconda3\\envs\\ds_study\\lib\\site-packages\\seaborn\\utils.py:95: UserWarning: Glyph 46020 (\\N{HANGUL SYLLABLE DO}) missing from current font.\n",
            "  fig.canvas.draw()\n",
            "c:\\Users\\zpala\\miniconda3\\envs\\ds_study\\lib\\site-packages\\IPython\\core\\pylabtools.py:151: UserWarning: Glyph 54217 (\\N{HANGUL SYLLABLE PYEONG}) missing from current font.\n",
            "  fig.canvas.print_figure(bytes_io, **kw)\n",
            "c:\\Users\\zpala\\miniconda3\\envs\\ds_study\\lib\\site-packages\\IPython\\core\\pylabtools.py:151: UserWarning: Glyph 44512 (\\N{HANGUL SYLLABLE GYUN}) missing from current font.\n",
            "  fig.canvas.print_figure(bytes_io, **kw)\n",
            "c:\\Users\\zpala\\miniconda3\\envs\\ds_study\\lib\\site-packages\\IPython\\core\\pylabtools.py:151: UserWarning: Glyph 44592 (\\N{HANGUL SYLLABLE GI}) missing from current font.\n",
            "  fig.canvas.print_figure(bytes_io, **kw)\n",
            "c:\\Users\\zpala\\miniconda3\\envs\\ds_study\\lib\\site-packages\\IPython\\core\\pylabtools.py:151: UserWarning: Glyph 50728 (\\N{HANGUL SYLLABLE ON}) missing from current font.\n",
            "  fig.canvas.print_figure(bytes_io, **kw)\n",
            "c:\\Users\\zpala\\miniconda3\\envs\\ds_study\\lib\\site-packages\\IPython\\core\\pylabtools.py:151: UserWarning: Glyph 52572 (\\N{HANGUL SYLLABLE COE}) missing from current font.\n",
            "  fig.canvas.print_figure(bytes_io, **kw)\n",
            "c:\\Users\\zpala\\miniconda3\\envs\\ds_study\\lib\\site-packages\\IPython\\core\\pylabtools.py:151: UserWarning: Glyph 51200 (\\N{HANGUL SYLLABLE JEO}) missing from current font.\n",
            "  fig.canvas.print_figure(bytes_io, **kw)\n",
            "c:\\Users\\zpala\\miniconda3\\envs\\ds_study\\lib\\site-packages\\IPython\\core\\pylabtools.py:151: UserWarning: Glyph 44256 (\\N{HANGUL SYLLABLE GO}) missing from current font.\n",
            "  fig.canvas.print_figure(bytes_io, **kw)\n",
            "c:\\Users\\zpala\\miniconda3\\envs\\ds_study\\lib\\site-packages\\IPython\\core\\pylabtools.py:151: UserWarning: Glyph 50517 (\\N{HANGUL SYLLABLE AB}) missing from current font.\n",
            "  fig.canvas.print_figure(bytes_io, **kw)\n",
            "c:\\Users\\zpala\\miniconda3\\envs\\ds_study\\lib\\site-packages\\IPython\\core\\pylabtools.py:151: UserWarning: Glyph 44053 (\\N{HANGUL SYLLABLE GANG}) missing from current font.\n",
            "  fig.canvas.print_figure(bytes_io, **kw)\n",
            "c:\\Users\\zpala\\miniconda3\\envs\\ds_study\\lib\\site-packages\\IPython\\core\\pylabtools.py:151: UserWarning: Glyph 49688 (\\N{HANGUL SYLLABLE SU}) missing from current font.\n",
            "  fig.canvas.print_figure(bytes_io, **kw)\n",
            "c:\\Users\\zpala\\miniconda3\\envs\\ds_study\\lib\\site-packages\\IPython\\core\\pylabtools.py:151: UserWarning: Glyph 47049 (\\N{HANGUL SYLLABLE RYANG}) missing from current font.\n",
            "  fig.canvas.print_figure(bytes_io, **kw)\n",
            "c:\\Users\\zpala\\miniconda3\\envs\\ds_study\\lib\\site-packages\\IPython\\core\\pylabtools.py:151: UserWarning: Glyph 54413 (\\N{HANGUL SYLLABLE PUNG}) missing from current font.\n",
            "  fig.canvas.print_figure(bytes_io, **kw)\n",
            "c:\\Users\\zpala\\miniconda3\\envs\\ds_study\\lib\\site-packages\\IPython\\core\\pylabtools.py:151: UserWarning: Glyph 49549 (\\N{HANGUL SYLLABLE SOG}) missing from current font.\n",
            "  fig.canvas.print_figure(bytes_io, **kw)\n",
            "c:\\Users\\zpala\\miniconda3\\envs\\ds_study\\lib\\site-packages\\IPython\\core\\pylabtools.py:151: UserWarning: Glyph 51060 (\\N{HANGUL SYLLABLE I}) missing from current font.\n",
            "  fig.canvas.print_figure(bytes_io, **kw)\n",
            "c:\\Users\\zpala\\miniconda3\\envs\\ds_study\\lib\\site-packages\\IPython\\core\\pylabtools.py:151: UserWarning: Glyph 49836 (\\N{HANGUL SYLLABLE SEUL}) missing from current font.\n",
            "  fig.canvas.print_figure(bytes_io, **kw)\n",
            "c:\\Users\\zpala\\miniconda3\\envs\\ds_study\\lib\\site-packages\\IPython\\core\\pylabtools.py:151: UserWarning: Glyph 51216 (\\N{HANGUL SYLLABLE JEOM}) missing from current font.\n",
            "  fig.canvas.print_figure(bytes_io, **kw)\n",
            "c:\\Users\\zpala\\miniconda3\\envs\\ds_study\\lib\\site-packages\\IPython\\core\\pylabtools.py:151: UserWarning: Glyph 49345 (\\N{HANGUL SYLLABLE SANG}) missing from current font.\n",
            "  fig.canvas.print_figure(bytes_io, **kw)\n",
            "c:\\Users\\zpala\\miniconda3\\envs\\ds_study\\lib\\site-packages\\IPython\\core\\pylabtools.py:151: UserWarning: Glyph 45824 (\\N{HANGUL SYLLABLE DAE}) missing from current font.\n",
            "  fig.canvas.print_figure(bytes_io, **kw)\n",
            "c:\\Users\\zpala\\miniconda3\\envs\\ds_study\\lib\\site-packages\\IPython\\core\\pylabtools.py:151: UserWarning: Glyph 49845 (\\N{HANGUL SYLLABLE SEUB}) missing from current font.\n",
            "  fig.canvas.print_figure(bytes_io, **kw)\n",
            "c:\\Users\\zpala\\miniconda3\\envs\\ds_study\\lib\\site-packages\\IPython\\core\\pylabtools.py:151: UserWarning: Glyph 46020 (\\N{HANGUL SYLLABLE DO}) missing from current font.\n",
            "  fig.canvas.print_figure(bytes_io, **kw)\n"
          ]
        },
        {
          "data": {
            "image/png": "[encoded data removed]",
            "text/plain": [
              "<Figure size 432x288 with 2 Axes>"
            ]
          },
          "metadata": {
            "needs_background": "light"
          },
          "output_type": "display_data"
        }
      ],
      "source": [
        "correlation_matrix = train_data.corr().round(2)\n",
        "sns.heatmap(data=correlation_matrix, annot=True, cmap='bwr');"
      ]
    },
    {
      "cell_type": "code",
      "execution_count": 28,
      "metadata": {
        "colab": {
          "base_uri": "https://localhost:8080/"
        },
        "id": "JeU8Zw7phINu",
        "outputId": "f91d324b-07ee-4dbf-cbbf-376010d4aded"
      },
      "outputs": [
        {
          "data": {
            "text/plain": [
              "(array([0, 1], dtype=int64), array([5289,  906], dtype=int64))"
            ]
          },
          "execution_count": 28,
          "metadata": {},
          "output_type": "execute_result"
        }
      ],
      "source": [
        "from sklearn.model_selection import train_test_split\n",
        "import numpy as np\n",
        "\n",
        "X = train_data.drop(['SPI6'], axis=1)\n",
        "y = train_data['SPI6']\n",
        "\n",
        "X_train, X_test, y_train, y_test = train_test_split(X, y, test_size=0.2, random_state=13)\n",
        "\n",
        "np.unique(y_train, return_counts=True)"
      ]
    },
    {
      "cell_type": "code",
      "execution_count": 205,
      "metadata": {},
      "outputs": [],
      "source": [
        "X_train = train_data.drop(['SPI6'], axis=1)\n",
        "X_test = test_data.drop(['SPI6'], axis=1)\n",
        "\n",
        "y_train = train_data['SPI6']\n",
        "y_test = test_data['SPI6']"
      ]
    },
    {
      "cell_type": "code",
      "execution_count": 206,
      "metadata": {
        "colab": {
          "base_uri": "https://localhost:8080/"
        },
        "id": "E9rMPy2kVoPm",
        "outputId": "3c37466b-e408-4cbe-a1c8-43427bd6b698"
      },
      "outputs": [
        {
          "data": {
            "text/plain": [
              "0.8504746835443038"
            ]
          },
          "execution_count": 206,
          "metadata": {},
          "output_type": "execute_result"
        }
      ],
      "source": [
        "from sklearn.tree import DecisionTreeClassifier\n",
        "from sklearn.metrics import accuracy_score\n",
        "\n",
        "drought_tree = DecisionTreeClassifier(random_state=13, max_depth=4)\n",
        "drought_tree.fit(X_train, y_train)\n",
        "pred = drought_tree.predict(X_test)\n",
        "\n",
        "accuracy_score(y_test, pred)"
      ]
    },
    {
      "cell_type": "code",
      "execution_count": 207,
      "metadata": {
        "colab": {
          "base_uri": "https://localhost:8080/"
        },
        "id": "qBq_EXMDjItk",
        "outputId": "31ef5918-7095-4a24-f245-53d64027ca3b"
      },
      "outputs": [
        {
          "data": {
            "text/plain": [
              "GridSearchCV(cv=5,\n",
              "             estimator=DecisionTreeClassifier(max_depth=4, random_state=13),\n",
              "             param_grid={'max_depth': range(2, 12)}, return_train_score=True,\n",
              "             scoring='accuracy')"
            ]
          },
          "execution_count": 207,
          "metadata": {},
          "output_type": "execute_result"
        }
      ],
      "source": [
        "from sklearn.model_selection import GridSearchCV\n",
        "\n",
        "params = {\n",
        "    'max_depth' : range(2, 12)\n",
        "}\n",
        "\n",
        "grid_cv = GridSearchCV(drought_tree, param_grid=params, scoring='accuracy', cv=5, return_train_score=True)\n",
        "grid_cv.fit(X_train, y_train)"
      ]
    },
    {
      "cell_type": "code",
      "execution_count": 208,
      "metadata": {
        "colab": {
          "base_uri": "https://localhost:8080/"
        },
        "id": "o0a0sg08jsZi",
        "outputId": "35dfbaec-051a-4e14-d2fe-be5c6ab32a80"
      },
      "outputs": [
        {
          "data": {
            "text/plain": [
              "0.8873456790123457"
            ]
          },
          "execution_count": 208,
          "metadata": {},
          "output_type": "execute_result"
        }
      ],
      "source": [
        "grid_cv.best_score_"
      ]
    },
    {
      "cell_type": "code",
      "execution_count": 209,
      "metadata": {
        "colab": {
          "base_uri": "https://localhost:8080/"
        },
        "id": "XTlP4ZMuju_p",
        "outputId": "284f9a00-d736-4740-9728-e7087cb21c6e"
      },
      "outputs": [
        {
          "data": {
            "text/plain": [
              "{'max_depth': 5}"
            ]
          },
          "execution_count": 209,
          "metadata": {},
          "output_type": "execute_result"
        }
      ],
      "source": [
        "grid_cv.best_params_"
      ]
    },
    {
      "cell_type": "code",
      "execution_count": 210,
      "metadata": {
        "colab": {
          "base_uri": "https://localhost:8080/",
          "height": 363
        },
        "id": "Gq0LmktHkCUT",
        "outputId": "8b310574-b487-4363-8531-1772b6d20dae"
      },
      "outputs": [
        {
          "data": {
            "text/html": [
              "<div>\n",
              "<style scoped>\n",
              "    .dataframe tbody tr th:only-of-type {\n",
              "        vertical-align: middle;\n",
              "    }\n",
              "\n",
              "    .dataframe tbody tr th {\n",
              "        vertical-align: top;\n",
              "    }\n",
              "\n",
              "    .dataframe thead th {\n",
              "        text-align: right;\n",
              "    }\n",
              "</style>\n",
              "<table border=\"1\" class=\"dataframe\">\n",
              "  <thead>\n",
              "    <tr style=\"text-align: right;\">\n",
              "      <th></th>\n",
              "      <th>param_max_depth</th>\n",
              "      <th>mean_test_score</th>\n",
              "      <th>mean_train_score</th>\n",
              "    </tr>\n",
              "  </thead>\n",
              "  <tbody>\n",
              "    <tr>\n",
              "      <th>0</th>\n",
              "      <td>2</td>\n",
              "      <td>0.861728</td>\n",
              "      <td>0.872955</td>\n",
              "    </tr>\n",
              "    <tr>\n",
              "      <th>1</th>\n",
              "      <td>3</td>\n",
              "      <td>0.857870</td>\n",
              "      <td>0.880247</td>\n",
              "    </tr>\n",
              "    <tr>\n",
              "      <th>2</th>\n",
              "      <td>4</td>\n",
              "      <td>0.881636</td>\n",
              "      <td>0.898573</td>\n",
              "    </tr>\n",
              "    <tr>\n",
              "      <th>3</th>\n",
              "      <td>5</td>\n",
              "      <td>0.887346</td>\n",
              "      <td>0.913156</td>\n",
              "    </tr>\n",
              "    <tr>\n",
              "      <th>4</th>\n",
              "      <td>6</td>\n",
              "      <td>0.877932</td>\n",
              "      <td>0.920100</td>\n",
              "    </tr>\n",
              "    <tr>\n",
              "      <th>5</th>\n",
              "      <td>7</td>\n",
              "      <td>0.868519</td>\n",
              "      <td>0.930826</td>\n",
              "    </tr>\n",
              "    <tr>\n",
              "      <th>6</th>\n",
              "      <td>8</td>\n",
              "      <td>0.864352</td>\n",
              "      <td>0.941975</td>\n",
              "    </tr>\n",
              "    <tr>\n",
              "      <th>7</th>\n",
              "      <td>9</td>\n",
              "      <td>0.856481</td>\n",
              "      <td>0.952315</td>\n",
              "    </tr>\n",
              "    <tr>\n",
              "      <th>8</th>\n",
              "      <td>10</td>\n",
              "      <td>0.857716</td>\n",
              "      <td>0.962191</td>\n",
              "    </tr>\n",
              "    <tr>\n",
              "      <th>9</th>\n",
              "      <td>11</td>\n",
              "      <td>0.852623</td>\n",
              "      <td>0.971721</td>\n",
              "    </tr>\n",
              "  </tbody>\n",
              "</table>\n",
              "</div>"
            ],
            "text/plain": [
              "  param_max_depth  mean_test_score  mean_train_score\n",
              "0               2         0.861728          0.872955\n",
              "1               3         0.857870          0.880247\n",
              "2               4         0.881636          0.898573\n",
              "3               5         0.887346          0.913156\n",
              "4               6         0.877932          0.920100\n",
              "5               7         0.868519          0.930826\n",
              "6               8         0.864352          0.941975\n",
              "7               9         0.856481          0.952315\n",
              "8              10         0.857716          0.962191\n",
              "9              11         0.852623          0.971721"
            ]
          },
          "execution_count": 210,
          "metadata": {},
          "output_type": "execute_result"
        }
      ],
      "source": [
        "cv_result_df = pd.DataFrame(grid_cv.cv_results_)\n",
        "cv_result_df[['param_max_depth', 'mean_test_score', 'mean_train_score']]"
      ]
    },
    {
      "cell_type": "code",
      "execution_count": 211,
      "metadata": {
        "colab": {
          "base_uri": "https://localhost:8080/"
        },
        "id": "46gJWcWoktHT",
        "outputId": "23207c13-7557-489a-be17-7c0ee16571d4"
      },
      "outputs": [
        {
          "data": {
            "text/plain": [
              "GridSearchCV(cv=2, estimator=RandomForestClassifier(n_jobs=-1, random_state=13),\n",
              "             n_jobs=-1,\n",
              "             param_grid={'max_depth': range(2, 12), 'min_samples_leaf': [8, 12],\n",
              "                         'min_samples_split': [8, 12],\n",
              "                         'n_estimators': [50, 100, 200, 400]})"
            ]
          },
          "execution_count": 211,
          "metadata": {},
          "output_type": "execute_result"
        }
      ],
      "source": [
        "from sklearn.model_selection import GridSearchCV\n",
        "from sklearn.ensemble import RandomForestClassifier\n",
        "\n",
        "params = {\n",
        "    'max_depth': range(2, 12),\n",
        "    'n_estimators': [50, 100, 200, 400],\n",
        "    'min_samples_leaf': [8, 12],\n",
        "    'min_samples_split': [8, 12]\n",
        "}\n",
        "\n",
        "drought_forest = RandomForestClassifier(random_state=13, n_jobs=-1)\n",
        "grid_cv = GridSearchCV(drought_forest, param_grid=params, cv=2, n_jobs=-1)\n",
        "grid_cv.fit(X_train, y_train)"
      ]
    },
    {
      "cell_type": "code",
      "execution_count": 212,
      "metadata": {
        "colab": {
          "base_uri": "https://localhost:8080/"
        },
        "id": "qaTAZM_Ql49s",
        "outputId": "32257d09-e36c-431c-daa8-2e699d03b065"
      },
      "outputs": [
        {
          "data": {
            "text/plain": [
              "0.8935185185185186"
            ]
          },
          "execution_count": 212,
          "metadata": {},
          "output_type": "execute_result"
        }
      ],
      "source": [
        "grid_cv.best_score_"
      ]
    }
  ],
  "metadata": {
    "colab": {
      "name": "DroughtForecast.ipynb",
      "provenance": []
    },
    "kernelspec": {
      "display_name": "Python 3.8.13 ('ds_study')",
      "language": "python",
      "name": "python3"
    },
    "language_info": {
      "codemirror_mode": {
        "name": "ipython",
        "version": 3
      },
      "file_extension": ".py",
      "mimetype": "text/x-python",
      "name": "python",
      "nbconvert_exporter": "python",
      "pygments_lexer": "ipython3",
      "version": "3.8.13"
    },
    "vscode": {
      "interpreter": {
        "hash": "843ebd42db2d4da1a18a350dcad2f53f03940c583dc08c0c4ab334fd9dc27176"
      }
    }
  },
  "nbformat": 4,
  "nbformat_minor": 0
}
